{
 "cells": [
  {
   "cell_type": "markdown",
   "metadata": {
    "id": "4e11uCYtxNQO"
   },
   "source": [
    "# Question 1.1:"
   ]
  },
  {
   "cell_type": "markdown",
   "metadata": {
    "id": "kq7N-_zforso"
   },
   "source": [
    "#  What is the difference between static and dynamic variables in Python?\n",
    "**Ans:**\n",
    "\n",
    "- **Static Variables:** Static variables, also known as class variables, are shared among all instances of a class. They are defined within a class but outside any instance methods.\n",
    "- **Dynamic Variables:** Dynamic variables, also known as instance variables, are unique to each instance of a class. They are defined within instance methods, typically within the __init__ method."
   ]
  },
  {
   "cell_type": "code",
   "execution_count": null,
   "metadata": {
    "id": "gXqOEiKbrQ4R"
   },
   "outputs": [],
   "source": [
    "# Static Variable\n",
    "\n",
    "class Static:\n",
    "    static_var = 1\n",
    "\n",
    "# Dynamic Variable\n",
    "\n",
    "class Dynamic:\n",
    "    def __init__(self, value):\n",
    "        self.instance_var = value"
   ]
  },
  {
   "cell_type": "markdown",
   "metadata": {
    "id": "dn8xhWtwtgK5"
   },
   "source": [
    "# Explain the purpose of \"pop\",\"popitem\",\"clear()\" in a dictionary with suitable examples.\n",
    "**Ans:**\n",
    "- **pop():** The `pop()` method removes the specified key and returns the corresponding value.\n",
    "- **popitem():** The `popitem()` method removes and returns the last inserted key-value pair as a tuple.\n",
    "- **clear():** The `clear()` method removes all items from the dictionary, leaving it empty."
   ]
  },
  {
   "cell_type": "code",
   "execution_count": null,
   "metadata": {
    "colab": {
     "base_uri": "https://localhost:8080/"
    },
    "id": "3Myt8BXMudxP",
    "outputId": "59acf54b-89a6-496c-e288-5f9d5784151a"
   },
   "outputs": [
    {
     "name": "stdout",
     "output_type": "stream",
     "text": [
      "pop: ML Engineer\n",
      "popitem: ('age', 21)\n",
      "clear: None\n"
     ]
    }
   ],
   "source": [
    "my_self = {\"Name\":\"Aagam\", 'age': 21, 'education':'ML Engineer'}\n",
    "print(f\"pop: {my_self.pop('education')}\")\n",
    "print(f\"popitem: {my_self.popitem()}\")\n",
    "print(f\"clear: {my_self.clear()}\")"
   ]
  },
  {
   "cell_type": "markdown",
   "metadata": {
    "id": "mlVbM5Dryw76"
   },
   "source": [
    "# What do you mean by FrozenSet? Explain it with suitable examples.\n",
    "**Ans:** A `frozenset` in Python is an immutable version of a set. This means that once a `frozenset` is created, its elements cannot be changed, added, or removed. This immutability makes `frozenset` useful in situations where you need a collection of unique elements(like sets) that should remain constant throughout the program’s execution."
   ]
  },
  {
   "cell_type": "code",
   "execution_count": null,
   "metadata": {
    "colab": {
     "base_uri": "https://localhost:8080/"
    },
    "id": "rsUvfGPH10Xa",
    "outputId": "a099a11c-4d9b-4f32-e910-3e230b452943"
   },
   "outputs": [
    {
     "name": "stdout",
     "output_type": "stream",
     "text": [
      "frozenset({'Banana', 'Dates', 'Mango', 'Apple'})\n"
     ]
    }
   ],
   "source": [
    "fruits = frozenset(['Apple','Dates','Banana','Mango','Apple'])\n",
    "print(fruits)"
   ]
  },
  {
   "cell_type": "markdown",
   "metadata": {
    "id": "tyrf8Zl_3EgJ"
   },
   "source": [
    "# Differentiate between mutable and immutable data types in Python and give examples of mutable and immutable data types.\n",
    "\n",
    "**Ans:**\n",
    "- **Mutable data types** are those that can be changed after their creation. This means you can modify their content without creating a new object. Common mutable data types in Python include:\n",
    "    \n",
    "    - **Lists:** You can add, remove, or change elements.\n",
    "    - **Dictionaries:** You can add, remove, or change key-value pairs.\n",
    "    - **Sets:** You can add or remove elements.\n",
    "- **Immutable data types**, on the other hand, cannot be changed after their creation. Any modification results in the creation of a new object. Common immutable data types in Python include:\n",
    "    - **Tuples:** Once created, the elements cannot be changed.\n",
    "    - **Strings:** Any modification creates a new string.\n",
    "    - **Numbers:** Integers, floats, and complex numbers are immutable."
   ]
  },
  {
   "cell_type": "code",
   "execution_count": null,
   "metadata": {
    "id": "mrkySSgrLu_I",
    "outputId": "b2cbb9a1-792f-4032-9789-1161a365b10b"
   },
   "outputs": [
    {
     "name": "stdout",
     "output_type": "stream",
     "text": [
      "['Apple', 'Watermelon']\n",
      "{'Pineapple', 'Melon', 'Apple', 'Watermelon'}\n",
      "{'a': 'Apple', 'b': 'Pineapple', 'c': 'Watermelon'}\n"
     ]
    }
   ],
   "source": [
    "# Mutable data types\n",
    "\n",
    "fruits_list = ['Apple', 'Pineapple', 'Watermelon']\n",
    "fruits_list.remove('Pineapple')\n",
    "print(fruits_list)\n",
    "\n",
    "fruits_set = {'Apple', 'Pineapple', 'Watermelon'}\n",
    "fruits_set.add(\"Melon\")\n",
    "print(fruits_set)\n",
    "\n",
    "fruits_dict = {'a':'Apple', 'b':'Pineapple'}\n",
    "fruits_dict['c'] = 'Watermelon'\n",
    "print(fruits_dict)\n"
   ]
  },
  {
   "cell_type": "code",
   "execution_count": null,
   "metadata": {
    "id": "fXCLOrGcV0rN",
    "outputId": "c3cde92c-d506-4996-d26b-7f5b00a37545"
   },
   "outputs": [
    {
     "name": "stdout",
     "output_type": "stream",
     "text": [
      "('Apple', 'Pineapple', 'Watermelon')\n",
      "APPLE\n",
      "11\n"
     ]
    }
   ],
   "source": [
    "# Immutable data types\n",
    "\n",
    "fruits_tuple = ('Apple', 'Pineapple', 'Watermelon')\n",
    "print(fruits_tuple)\n",
    "\n",
    "fruits_string = \"Apple\"\n",
    "new_string = fruits_string.upper() # new_string is modified, but not updated.\n",
    "print(new_string)\n",
    "\n",
    "my_int = 10\n",
    "my_int += 1  # my_int is now 11, but a new integer object was created\n",
    "print(my_int)"
   ]
  },
  {
   "cell_type": "markdown",
   "metadata": {
    "id": "NhVx4VfJV0rN"
   },
   "source": [
    "# What is `__init__`?Explain with an example.\n",
    "\n",
    "**Ans:** The `__init__` method in Python is a special method used to initialize objects of a class. It’s often referred to as the constructor because it is automatically called when a new instance of the class is created."
   ]
  },
  {
   "cell_type": "code",
   "execution_count": null,
   "metadata": {
    "id": "i1K010Z_V0rO",
    "outputId": "6b028aeb-7270-4a3d-fc9d-790c7b547d6b"
   },
   "outputs": [
    {
     "name": "stdout",
     "output_type": "stream",
     "text": [
      "I'm Aagam. I'm 21 years old.\n"
     ]
    }
   ],
   "source": [
    "class Person:\n",
    "    def __init__(self, name, age):\n",
    "        self.name = name\n",
    "        self.age = age\n",
    "\n",
    "per = Person('Aagam', 21)\n",
    "print(f\"I'm {per.name}. I'm {per.age} years old.\")"
   ]
  },
  {
   "cell_type": "markdown",
   "metadata": {
    "id": "qUm1bM6VV0rO"
   },
   "source": [
    "# What is docstring in Python?Explain with an example.\n",
    "**Ans:** In Python, a docstring (short for documentation string) is a string literal that appears right after the definition of a function, method, class, or module. It is used to document what the function, method, class, or module does. Docstrings are enclosed in triple quotes (''' or \"\"\"), allowing them to span multiple lines."
   ]
  },
  {
   "cell_type": "code",
   "execution_count": null,
   "metadata": {
    "id": "XnyHD5OLV0rO",
    "outputId": "565d1f37-e779-4b1d-b5dd-099e73346cc6"
   },
   "outputs": [
    {
     "name": "stdout",
     "output_type": "stream",
     "text": [
      "\n",
      "    This function multiply two numbers and returns their product.\n",
      "\n",
      "    Parameters:\n",
      "    a (int or float): The first number\n",
      "    b (int or float): The second number\n",
      "\n",
      "    Returns:\n",
      "    int or float: The product of the two numbers.\n",
      "    \n"
     ]
    }
   ],
   "source": [
    "def multiply(a, b):\n",
    "    \"\"\"\n",
    "    This function multiply two numbers and returns their product.\n",
    "\n",
    "    Parameters:\n",
    "    a (int or float): The first number\n",
    "    b (int or float): The second number\n",
    "\n",
    "    Returns:\n",
    "    int or float: The product of the two numbers.\n",
    "    \"\"\"\n",
    "    return a*b\n",
    "\n",
    "print(multiply.__doc__)"
   ]
  },
  {
   "cell_type": "markdown",
   "metadata": {
    "id": "UAtokD3AV0rO"
   },
   "source": [
    "# What are unit tests in Python?\n",
    "**Ans:** Unit tests in Python are a way to test individual units of source code to ensure they work as expected. The Python standard library includes a module called `unittest`, which provides a framework for writitng and running tests.\n",
    "\n",
    "Here are some key concepts of unit testing with `unittest`:\n",
    "\n",
    "1. **Test Case:** The smallest unit of testing. It checks for a specific response to a particular set of inputs. You create test cases by subclassing `unittest.TestCase`.\n",
    "2. **Test Suite:** A collection of test cases, test suites, or both. It is used to aggregate tests that should be executed together.\n",
    "3. **Test Runner:** A component that orchestrates the execution of tests and provides the outcome to the user. It can use a graphical interface, a textual interface, or return a special value to indicate the results.\n",
    "4. **Test Fixture:** Represents the preparation needed to perform one or more tests, and any associated cleanup actions. This may involve creating temporary databases, directories, or starting a server process."
   ]
  },
  {
   "cell_type": "code",
   "execution_count": null,
   "metadata": {
    "id": "LzX6Gg4WV0rP"
   },
   "outputs": [],
   "source": [
    "import unittest\n",
    "\n",
    "class TestStringMethods(unittest.TestCase):\n",
    "\n",
    "    def test_upper(self):\n",
    "        self.assertEqual('foo'.upper(), 'FOO')\n",
    "\n",
    "    def test_isupper(self):\n",
    "        self.assertTrue('FOO'.isupper())\n",
    "        self.assertFalse('Foo'.isupper())\n",
    "\n",
    "    def test_split(self):\n",
    "        s = 'hello world'\n",
    "        self.assertEqual(s.split(), ['hello', 'world'])\n",
    "        with self.assertRaises(TypeError):\n",
    "            s.split(2)\n",
    "\n",
    "if __name__ == '__main__':\n",
    "    unittest.main()\n"
   ]
  },
  {
   "cell_type": "markdown",
   "metadata": {
    "id": "Mu40Jh6FV0rP"
   },
   "source": [
    "# What is break, continue and pass in Python?\n",
    "\n",
    "**Ans:**\n",
    "\n",
    "1. **break:** The break statement is used within loops (such as for or while) to immediately exit the loop. When encountered, it terminates the loop’s execution and transfers control to the next statement after the loop.\n",
    "2. **continue:** The continue statement is also used within loops. When encountered, it skips the remaining code inside the loop for the current iteration and proceeds to the next iteration.\n",
    "3. **pass:** You use pass when you need a syntactically correct block of code but don’t want to execute any specific instructions. It’s often used when defining empty functions, classes, or conditional blocks that you plan to fill in later."
   ]
  },
  {
   "cell_type": "code",
   "execution_count": null,
   "metadata": {
    "id": "aD9bJJgVV0rP"
   },
   "outputs": [],
   "source": [
    "# break\n",
    "for i in range(10):\n",
    "    if i == 5:\n",
    "        break  # Exit the loop when i is 5\n",
    "    print(i)\n",
    "\n",
    "#continue\n",
    "for i in range(10):\n",
    "    if i % 2 == 0:\n",
    "        continue  # Skip even numbers\n",
    "    print(i)\n",
    "\n",
    "#pass\n",
    "def placeholder_function():\n",
    "    pass  # Placeholder function with no implementation yet\n"
   ]
  },
  {
   "cell_type": "markdown",
   "metadata": {
    "id": "ySX8VBqSV0rP"
   },
   "source": [
    "# What is the use of self in Python?\n",
    "\n",
    "**Ans:** In Python, `self` is a special parameter that refers to the instance of a class. When you define methods within a class, you’ll often see self as the first parameter in those methods.\n",
    "\n",
    "1. **Object-Oriented Context:**\n",
    "   - Python is an object-oriented language, which means it revolves around the concept of objects (instances of classes).\n",
    "   - When you create an instance of a class (i.e., an object), Python automatically passes that instance as the first argument to any method you call on that object.\n",
    "   - By convention, we call this first parameter `self`.\n",
    "  \n",
    "2. **Instance Methods:**\n",
    "\n",
    "    - Instance methods are functions defined within a class that operate on the instance data (attributes) of that class.\n",
    "    - These methods typically take `self` as their first parameter.\n",
    "    - You can access instance variables (attributes) using `self.attribute_name` within these methods."
   ]
  },
  {
   "cell_type": "code",
   "execution_count": null,
   "metadata": {
    "id": "xBNxXmZVV0rQ"
   },
   "outputs": [],
   "source": [
    "class Dog:\n",
    "    def __init__(self, name, breed):\n",
    "        self.name = name\n",
    "        self.breed = breed\n",
    "\n",
    "    def bark(self):\n",
    "        print(f\"{self.name} says woof!\")\n",
    "\n",
    "my_dog = Dog(name=\"Buddy\", breed=\"Golden Retriever\")\n",
    "my_dog.bark()  # Calls the 'bark' method with 'self' implicitly passed"
   ]
  },
  {
   "cell_type": "markdown",
   "metadata": {
    "id": "rTusUr75V0rQ"
   },
   "source": [
    "# What are global, protected and private attributes in Python?\n",
    "\n",
    "**Ans:**\n",
    "\n",
    "1. **Public Attributes:**\n",
    "\n",
    "    - In the world of object-oriented programming, the term 'public' refers to the most accessible level of data member or method visibility. When a class member is declared as public, it can be accessed from any other code in the same program.  \n",
    "    - Public members are essential for the interaction between different classes and form the interface through which classes communicate with the rest of the program.\n",
    "  \n",
    "2. **Protected Attributes:**\n",
    "\n",
    "    - These modifiers allow a class to restrict access to its members to only its own subclasses. This is akin to a semi-exclusive VIP section in a club, where entry is limited to a select group of people. It's a way to ensure that sensitive information or methods are kept within the 'family' of related classes, preventing outside classes from interacting with them directly. This principle helps maintain a structured and secure hierarchy in code architecture.\n",
    "    - To declare a protected attribute, add a single underscore (_) before its name.\n",
    "  \n",
    "3. **Private Attributes:**\n",
    "\n",
    "    - These members are encapsulated within the class, meaning they are shielded from outside access and can only be accessed or modified by the class's own methods.\n",
    "    - This concept is a fundamental principle of encapsulation, which helps in maintaining the integrity of the data and the behavior of the objects created from the class. Encapsulation ensures that the internal representation of an object is hidden from the outside, only allowing interaction through a controlled interface.\n",
    "    - To declare a private attribute, use a double underscore (__) before its name.\n"
   ]
  },
  {
   "cell_type": "code",
   "execution_count": null,
   "metadata": {
    "id": "aqS9Uhc5V0rQ"
   },
   "outputs": [],
   "source": [
    "# Public Attributes\n",
    "\n",
    "class Geek:\n",
    "    def __init__(self, name, age):\n",
    "        self.geekName = name\n",
    "        self.geekAge = age\n",
    "\n",
    "    def displayAge(self):\n",
    "        print(\"Age:\", self.geekAge)\n",
    "\n",
    "obj = Geek(\"R2J\", 20)\n",
    "print(\"Name:\", obj.geekName)\n",
    "obj.displayAge()"
   ]
  },
  {
   "cell_type": "code",
   "execution_count": null,
   "metadata": {
    "id": "9aH_BA9zV0rR"
   },
   "outputs": [],
   "source": [
    "# Protected Attributes\n",
    "\n",
    "class Student:\n",
    "    def __init__(self, name, roll, branch):\n",
    "        self._name = name\n",
    "        self._roll = roll\n",
    "        self._branch = branch\n",
    "\n",
    "    def _displayRollAndBranch(self):\n",
    "        print(\"Roll:\", self._roll)\n",
    "        print(\"Branch:\", self._branch)\n",
    "\n",
    "class Geek(Student):\n",
    "    def displayDetails(self):\n",
    "        print(\"Name:\", self._name)\n",
    "        self._displayRollAndBranch()\n",
    "\n",
    "obj = Geek(\"R2J\", 1706256, \"Information Technology\")\n",
    "obj.displayDetails()"
   ]
  },
  {
   "cell_type": "code",
   "execution_count": null,
   "metadata": {
    "id": "ZbG9BYLHV0rR"
   },
   "outputs": [],
   "source": [
    "# Private Attributes\n",
    "\n",
    "class SecretAgent:\n",
    "    def __init__(self, real_name, code_name):\n",
    "        self.__real_name = real_name\n",
    "        self.__code_name = code_name\n",
    "\n",
    "    def reveal_identity(self):\n",
    "        print(\"Real Name:\", self.__real_name)\n",
    "\n",
    "agent = SecretAgent(\"James Bond\", \"007\")\n",
    "agent.reveal_identity()\n",
    "# Oops, let's try to be sneaky:\n",
    "print(agent._SecretAgent__code_name)  # Not recommended, but it works!"
   ]
  },
  {
   "cell_type": "markdown",
   "metadata": {
    "id": "Bt4H2SwxV0rR"
   },
   "source": [
    "# What are modules and packages in Python?\n",
    "**Ans:**\n",
    "    \n",
    "    \n",
    "- **Modules:**\n",
    "  - A module is a single file (with a `.py` extension) that contains Python code. It can include functions, classes, variables, and runnable code. Modules help in organizing code by grouping related functionalities together.\n",
    "  - **Creating a Module:** Simply create a Python file, for example, `mymodule.py`.\n",
    "  - **Using a Module:** You can import a module into another Python file using the `import` statement.\n",
    "\n",
    "- **Packages:**\n",
    "    - A package is a way of organizing related modules into a directory hierarchy. A package must contain an `__init__.py` file (which can be empty) to be recognized as a package. This file can also be used to execute initialization code for the package or to define what is available when the package is imported.\n",
    "    - **Creating a Package:** Create a directory with an `__init__.py` file. Add module files to this directory.\n",
    "    - **Using a Package:** You can import modules from a package using the dot notation.\n",
    "        "
   ]
  },
  {
   "cell_type": "code",
   "execution_count": null,
   "metadata": {
    "id": "pFPS2cG4V0rR"
   },
   "outputs": [],
   "source": [
    "# Modules\n",
    "\n",
    "# mymodule.py\n",
    "def greet(name):\n",
    "    return f\"Hello, {name}!\"\n",
    "\n",
    "# main.py\n",
    "import mymodule # importing module\n",
    "\n",
    "print(mymodule.greet(\"Alice\"))\n"
   ]
  },
  {
   "cell_type": "code",
   "execution_count": null,
   "metadata": {
    "id": "NngUrrE7V0rS"
   },
   "outputs": [],
   "source": [
    "# Packages\n",
    "\n",
    "# module1.py\n",
    "def func1():\n",
    "    return \"Function 1 from module 1\"\n",
    "\n",
    "# module2.py\n",
    "def func2():\n",
    "    return \"Function 2 from module 2\"\n",
    "\n",
    "# main.py\n",
    "from mypackage import module1, module2 # importing modules from package\n",
    "\n",
    "print(module1.func1())\n",
    "print(module2.func2())\n"
   ]
  },
  {
   "cell_type": "markdown",
   "metadata": {
    "id": "VKoHLNFGV0rS"
   },
   "source": [
    "# What are lists and tuples? What is the key difference between the two?\n",
    "\n",
    "**Ans:**\n",
    "\n",
    "- **Lists:**\n",
    "    - **Mutable:** Items in a list can be changed after the list is created.\n",
    "    - **Syntax:** Lists are defined using square brackets `[]`.\n",
    "\n",
    "- **Tuples:**\n",
    "    - **Immutable:** Once a tuple is created, its items cannot be changed, added, or removed.\n",
    "    - **Syntax:** Tuples are defined using parenthses `()`.\n",
    "\n",
    "- **Key Difference**\n",
    "    - Mutability: The primary difference is that lists are mutable (can be modified) whereas tuples are immutable (cannot be modified after creation). This difference has implications for how and when each data structure is used. Lists are generally used when you need a collection of items that can change over time, while tuples are used for collections that should remain constant."
   ]
  },
  {
   "cell_type": "code",
   "execution_count": null,
   "metadata": {
    "id": "Q-bWRR91V0rS",
    "outputId": "10863ea7-67fd-4217-f57b-865e4033c368"
   },
   "outputs": [
    {
     "name": "stdout",
     "output_type": "stream",
     "text": [
      "List: [1, 2, 3, 4, 5]\n",
      "Tuple: (1, 2, 3, 4, 5)\n"
     ]
    }
   ],
   "source": [
    "# List example\n",
    "my_list = [1, 2, 3, 4, 5]\n",
    "print(f\"List: {my_list}\")\n",
    "\n",
    "# Tuple example\n",
    "my_tuple = (1, 2, 3, 4, 5)\n",
    "print(f\"Tuple: {my_tuple}\")"
   ]
  },
  {
   "cell_type": "markdown",
   "metadata": {
    "id": "zKWKG-GSV0rT"
   },
   "source": [
    "# What are Dict and List comprehensions?\n",
    "\n",
    "**Ans:**\n",
    "- **List comprehensions** allow you to create a new list by applying an expression to each item in an existing iterable (like a list or a range) and optionally filtering items.\n",
    "\n",
    "- **Dictionary comprehensions** allow you to create dictionaries in a similar, concise manner. You provide a key-value pair expression along with the iterable to generate the dictionary."
   ]
  },
  {
   "cell_type": "code",
   "execution_count": null,
   "metadata": {
    "id": "zVeLNJ6DV0rT",
    "outputId": "fe7e9a92-5b54-4bae-f1d6-8da87bbcba22"
   },
   "outputs": [
    {
     "name": "stdout",
     "output_type": "stream",
     "text": [
      "List: [0, 1, 4, 9, 16, 25, 36, 49, 64, 81]\n",
      "Dict: {0: 0, 2: 4, 4: 16, 6: 36, 8: 64}\n"
     ]
    }
   ],
   "source": [
    "# Examples\n",
    "\n",
    "#List comprehension\n",
    "squares = [x**2 for x in range(10)]\n",
    "print(f\"List: {squares}\")\n",
    "\n",
    "#Dict comprehension\n",
    "evens_dict = {x: x**2 for x in range(10) if x % 2 == 0}\n",
    "print(f'Dict: {evens_dict}')\n"
   ]
  },
  {
   "cell_type": "markdown",
   "metadata": {
    "id": "OCI9Ak2uV0rT"
   },
   "source": [
    "# What are decorators in Python? Explain it with an example.Write down its use cases\n",
    "\n",
    "**Ans:** Decorators in Python are a powerful and expressive tool for modifying the behavior of functions or methods. They allow you to wrap another function to extend its behavior without explicitly modifying it. Decorators are often used to add \"decorative\" functionality to an existing piece of code in a clean, readable, and reusable manner.\n",
    "\n",
    "- **Use Cases for Decorators**\n",
    "\n",
    "Decorators have many practical use cases, including but not limited to:\n",
    "\n",
    "1. **Logging:** Automatically log function calls and results.\n",
    "2. **Access Control and Authentication:** Restrict access to certain functions or methods based on user roles.\n",
    "3. **Caching:** Cache the results of expensive function calls to improve performance.\n",
    "4. **Validation:** Validate inputs to a function before processing them.\n",
    "5. **Instrumentation and Monitoring:** Measure the performance of functions, such as execution time.\n",
    "6. **Memoization:** Store the results of expensive function calls and reuse the stored result when the same inputs occur again.\n",
    "\n",
    "- **Example: Logging Decorater**"
   ]
  },
  {
   "cell_type": "code",
   "execution_count": null,
   "metadata": {
    "id": "j4UWVTIVV0rT",
    "outputId": "965cc1bf-5422-4874-f1d8-99aa9702e796"
   },
   "outputs": [
    {
     "name": "stdout",
     "output_type": "stream",
     "text": [
      "Calling add with args (3, 5)\n",
      "add returned 8\n"
     ]
    }
   ],
   "source": [
    "def log_decorator(func):\n",
    "    def wrapper(*args):\n",
    "        print(f\"Calling {func.__name__} with args {args}\")\n",
    "        result = func(*args)\n",
    "        print(f\"{func.__name__} returned {result}\")\n",
    "        return result\n",
    "    return wrapper\n",
    "\n",
    "@log_decorator\n",
    "def add(a, b):\n",
    "    return a + b\n",
    "\n",
    "result = add(3, 5)"
   ]
  },
  {
   "cell_type": "markdown",
   "metadata": {
    "id": "AQsAls3aV0rU"
   },
   "source": [
    "# What is lambda in Python? Why is it used?\n",
    "**Ans:** In Python, lambda refers to an anonymous function that is defined using the lambda keyword. These functions are often called \"lambda functions\" or \"lambda expressions.\" They are used to create small, unnamed function objects in a concise way.\n",
    "\n",
    "- **Uses of Lambda Functions:**\n",
    "    - **Conciseness:** Lambda functions allow for a more concise way to write small functions.\n",
    "    - **Readability:** For simple operations, they can make code more readable by reducing boilerplate.\n",
    "    - **Functional Programming:** They are often used in functional programming contexts where functions are first-class citizens and passed around as arguments to other functions (e.g., map, filter, sorted).\n",
    "    - **Inline Definition:** They enable the definition of functions in places where using a full function definition would be cumbersome."
   ]
  },
  {
   "cell_type": "code",
   "execution_count": null,
   "metadata": {
    "id": "Hp5OIacqV0rU",
    "outputId": "36776c43-04fd-4f53-f6ab-1576fcbbfd71"
   },
   "outputs": [
    {
     "name": "stdout",
     "output_type": "stream",
     "text": [
      "[1, 4, 9, 16]\n"
     ]
    }
   ],
   "source": [
    "# Example\n",
    "\n",
    "numbers = [1, 2, 3, 4]\n",
    "squares = map(lambda x: x ** 2, numbers)\n",
    "print(list(squares))"
   ]
  },
  {
   "cell_type": "markdown",
   "metadata": {
    "id": "L2VnwNeuV0rU"
   },
   "source": [
    "# Explain split() and join() functions in Python?\n",
    "\n",
    "**Ans:**\n",
    "- `split()`\n",
    "    - The `split()` method is used to break a string into a list of substrings based on a specified delimiter.\n",
    "\n",
    "- `join()`\n",
    "    - The `join()` method is used to concatenate a list of strings into a single string with a specified separator."
   ]
  },
  {
   "cell_type": "code",
   "execution_count": null,
   "metadata": {
    "id": "xVyI1sY5V0rV",
    "outputId": "db3d8b3c-d224-4bc3-9424-310375efc633"
   },
   "outputs": [
    {
     "name": "stdout",
     "output_type": "stream",
     "text": [
      "['apple', 'banana', 'orange']\n",
      "apple,banana,orange\n"
     ]
    }
   ],
   "source": [
    "#Example\n",
    "\n",
    "#Split\n",
    "text = \"apple,banana,orange\"\n",
    "fruits = text.split(',')\n",
    "print(fruits)\n",
    "\n",
    "#Join\n",
    "fruits = ['apple', 'banana', 'orange']\n",
    "result = ','.join(fruits)\n",
    "print(result)"
   ]
  },
  {
   "cell_type": "markdown",
   "metadata": {
    "id": "HgGzdOkjV0rV"
   },
   "source": [
    "# How will you check if a class is a child or another class?\n",
    "\n",
    "**Ans:**\n",
    "- In Python, you can check if a class is a subclass of another class using the built-in `issubclass()` function. This function takes two arguments: the class you want to check and the potential parent class. It returns `True` if the first class is a subclass of the second class (either directly or indirectly), and `False` otherwise.\n",
    "- You can also use the `__bases__` attribute of a class to examine its base classes directly. This attribute is a tuple containing the base classes of the class in question.\n",
    "- To check if a specific instance is an instance of a class or a subclass of that class, you can use the `isinstance()` function:"
   ]
  },
  {
   "cell_type": "code",
   "execution_count": null,
   "metadata": {
    "id": "DFnrkmLRV0rV",
    "outputId": "7442db90-2c12-4649-e33d-87c4697e0f79"
   },
   "outputs": [
    {
     "name": "stdout",
     "output_type": "stream",
     "text": [
      "True\n",
      "False\n"
     ]
    }
   ],
   "source": [
    "# Example\n",
    "\n",
    "#issubclass()\n",
    "class Parent:\n",
    "    pass\n",
    "\n",
    "class Child(Parent):\n",
    "    pass\n",
    "\n",
    "# Check if Child is a subclass of Parent\n",
    "print(issubclass(Child, Parent))\n",
    "\n",
    "# Check if Parent is a subclass of Child\n",
    "print(issubclass(Parent, Child))"
   ]
  },
  {
   "cell_type": "code",
   "execution_count": null,
   "metadata": {
    "id": "PH-yzrIeV0rc",
    "outputId": "91d21278-a81b-4852-8ec9-2ca724f66add"
   },
   "outputs": [
    {
     "name": "stdout",
     "output_type": "stream",
     "text": [
      "(<class '__main__.Parent'>,)\n",
      "(<class 'object'>,)\n"
     ]
    }
   ],
   "source": [
    "#__bases__\n",
    "print(Child.__bases__)\n",
    "print(Parent.__bases__)"
   ]
  },
  {
   "cell_type": "code",
   "execution_count": null,
   "metadata": {
    "id": "3_I_YJgPV0rc",
    "outputId": "7e758488-3bed-457f-99e0-497a10de3267"
   },
   "outputs": [
    {
     "name": "stdout",
     "output_type": "stream",
     "text": [
      "True\n",
      "True\n",
      "True\n"
     ]
    }
   ],
   "source": [
    "#isinstance()\n",
    "child_instance = Child()\n",
    "\n",
    "# Check if child_instance is an instance of Child or its subclass\n",
    "print(isinstance(child_instance, Child))\n",
    "\n",
    "# Check if child_instance is an instance of Parent or its subclass\n",
    "print(isinstance(child_instance, Parent))\n",
    "\n",
    "# Check if child_instance is an instance of Parent itself\n",
    "print(isinstance(child_instance, object))"
   ]
  },
  {
   "cell_type": "markdown",
   "metadata": {
    "id": "x4xWi8_6V0rd"
   },
   "source": [
    "# How does inheritance work in Python? Explain all types of inheritance with an example.\n",
    "\n",
    "Inheritance in Python is a mechanism that allows one class to inherit attributes and methods from another class. This promotes code reuse and can make the design of software more efficient and easier to manage. There are several types of inheritance in Python:\n",
    "\n",
    "1. **Single Inheritance:** A class inherits from one superclass.\n",
    "2. **Multiple Inheritance:** A class inherits from more than one superclass.\n",
    "3. **Multilevel Inheritance:** A class is derived from a class that is also derived from another class.\n",
    "4. **Hierarchical Inheritance:** Multiple classes inherit from a single superclass.\n",
    "5. **Hybrid Inheritance:** A combination of two or more types of inheritance."
   ]
  },
  {
   "cell_type": "code",
   "execution_count": null,
   "metadata": {
    "id": "5BX5qVa4V0rd",
    "outputId": "8d7a2202-4ee3-41a3-cebd-ea1d648dc060"
   },
   "outputs": [
    {
     "name": "stdout",
     "output_type": "stream",
     "text": [
      "Animal speaks\n",
      "Dog barks\n"
     ]
    }
   ],
   "source": [
    "#Example\n",
    "\n",
    "# 1. Single Inheritance\n",
    "class Animal:\n",
    "    def speak(self):\n",
    "        return \"Animal speaks\"\n",
    "\n",
    "class Dog(Animal):\n",
    "    def bark(self):\n",
    "        return \"Dog barks\"\n",
    "\n",
    "dog = Dog()\n",
    "print(dog.speak())\n",
    "print(dog.bark())"
   ]
  },
  {
   "cell_type": "code",
   "execution_count": null,
   "metadata": {
    "id": "NzWsxWhkV0rd",
    "outputId": "249d17cd-dcbb-4d67-b08a-dcbf929e7e12"
   },
   "outputs": [
    {
     "name": "stdout",
     "output_type": "stream",
     "text": [
      "Animal speaks\n",
      "Pet plays\n",
      "Dog barks\n"
     ]
    }
   ],
   "source": [
    "# 2. Multiple Inheritance\n",
    "\n",
    "class Animal:\n",
    "    def speak(self):\n",
    "        return \"Animal speaks\"\n",
    "\n",
    "class Pet:\n",
    "    def play(self):\n",
    "        return \"Pet plays\"\n",
    "\n",
    "class Dog(Animal, Pet):\n",
    "    def bark(self):\n",
    "        return \"Dog barks\"\n",
    "\n",
    "dog = Dog()\n",
    "print(dog.speak())\n",
    "print(dog.play())\n",
    "print(dog.bark())\n"
   ]
  },
  {
   "cell_type": "code",
   "execution_count": null,
   "metadata": {
    "id": "aDujDzUTV0re",
    "outputId": "8280c7c4-d032-42d5-d1c0-9d2d621fa9b1"
   },
   "outputs": [
    {
     "name": "stdout",
     "output_type": "stream",
     "text": [
      "Animal speaks\n",
      "Mammal runs\n",
      "Dog barks\n"
     ]
    }
   ],
   "source": [
    "# 3. Multilevel Inheritance\n",
    "\n",
    "class Animal:\n",
    "    def speak(self):\n",
    "        return \"Animal speaks\"\n",
    "\n",
    "class Mammal(Animal):\n",
    "    def run(self):\n",
    "        return \"Mammal runs\"\n",
    "\n",
    "class Dog(Mammal):\n",
    "    def bark(self):\n",
    "        return \"Dog barks\"\n",
    "\n",
    "dog = Dog()\n",
    "print(dog.speak())\n",
    "print(dog.run())\n",
    "print(dog.bark())"
   ]
  },
  {
   "cell_type": "code",
   "execution_count": null,
   "metadata": {
    "id": "jZVTfM3DV0re",
    "outputId": "34c84ef2-001d-4689-fa5f-7b75127b5a24"
   },
   "outputs": [
    {
     "name": "stdout",
     "output_type": "stream",
     "text": [
      "Animal speaks\n",
      "Dog barks\n",
      "Animal speaks\n",
      "Cat meows\n"
     ]
    }
   ],
   "source": [
    "# 4. Hierarchical Inheritance\n",
    "\n",
    "class Animal:\n",
    "    def speak(self):\n",
    "        return \"Animal speaks\"\n",
    "\n",
    "class Dog(Animal):\n",
    "    def bark(self):\n",
    "        return \"Dog barks\"\n",
    "\n",
    "class Cat(Animal):\n",
    "    def meow(self):\n",
    "        return \"Cat meows\"\n",
    "\n",
    "dog = Dog()\n",
    "cat = Cat()\n",
    "print(dog.speak())\n",
    "print(dog.bark())\n",
    "print(cat.speak())\n",
    "print(cat.meow())\n"
   ]
  },
  {
   "cell_type": "code",
   "execution_count": null,
   "metadata": {
    "id": "rORvAqW2V0rf",
    "outputId": "15f2817f-9501-4b7c-90a7-54aca97e91d5"
   },
   "outputs": [
    {
     "name": "stdout",
     "output_type": "stream",
     "text": [
      "Animal speaks\n",
      "Mammal runs\n",
      "Pet plays\n",
      "Dog barks\n"
     ]
    }
   ],
   "source": [
    "# 5. Hybrid Inheritance\n",
    "\n",
    "class Animal:\n",
    "    def speak(self):\n",
    "        return \"Animal speaks\"\n",
    "\n",
    "class Mammal(Animal):\n",
    "    def run(self):\n",
    "        return \"Mammal runs\"\n",
    "\n",
    "class Pet:\n",
    "    def play(self):\n",
    "        return \"Pet plays\"\n",
    "\n",
    "class Dog(Mammal, Pet):\n",
    "    def bark(self):\n",
    "        return \"Dog barks\"\n",
    "\n",
    "dog = Dog()\n",
    "print(dog.speak())\n",
    "print(dog.run())\n",
    "print(dog.play())\n",
    "print(dog.bark())"
   ]
  },
  {
   "cell_type": "markdown",
   "metadata": {
    "id": "TK6nYTO9V0rf"
   },
   "source": [
    "# What is encapsulation? Explain it with an example.\n",
    "\n",
    "**Ans:** Encapsulation is one of the fundamental principles of object-oriented programming (OOP). It refers to the bundling of data (attributes) and methods (functions or procedures) that operate on the data into a single unit or class. Encapsulation helps in restricting direct access to some of an object's components, which can prevent the accidental modification of data and provides a controlled interface for interacting with the object's attributes.\n",
    "\n",
    "1. **Private attributes and methods:** These are not accessible directly from outside the class. They are usually prefixed with an underscore `(_)` or double underscore `(__)` in Python to indicate that they are intended for internal use only.\n",
    "2. **Public attributes and methods:** These are accessible from outside the class and can be used to interact with the object."
   ]
  },
  {
   "cell_type": "code",
   "execution_count": null,
   "metadata": {
    "id": "RzDNLh1jV0rf"
   },
   "outputs": [],
   "source": [
    "# Example\n",
    "\n",
    "class Employee:\n",
    "    def __init__(self, name, salary):\n",
    "        self._name = name  # Protected attribute\n",
    "        self.__salary = salary  # Private attribute\n",
    "\n",
    "    def get_name(self):\n",
    "        return self._name\n",
    "\n",
    "    def set_name(self, name):\n",
    "        self._name = name\n",
    "\n",
    "    def get_salary(self):\n",
    "        return self.__salary\n",
    "\n",
    "    def set_salary(self, salary):\n",
    "        if salary > 0:\n",
    "            self.__salary = salary\n",
    "        else:\n",
    "            print(\"Invalid salary!\")\n",
    "\n",
    "# Creating an instance of Employee\n",
    "emp = Employee(\"John Doe\", 50000)\n",
    "\n",
    "# Accessing and modifying the protected attribute\n",
    "print(emp.get_name())  # Output: John Doe\n",
    "emp.set_name(\"Jane Doe\")\n",
    "print(emp.get_name())  # Output: Jane Doe\n",
    "\n",
    "# Accessing and modifying the private attribute through methods\n",
    "print(emp.get_salary())  # Output: 50000\n",
    "emp.set_salary(60000)\n",
    "print(emp.get_salary())  # Output: 60000\n",
    "\n",
    "# Attempting to access the private attribute directly (will raise an error)\n",
    "print(emp.__salary)  # AttributeError: 'Employee' object has no attribute '__salary'"
   ]
  },
  {
   "cell_type": "markdown",
   "metadata": {
    "id": "KOscSDtDV0rg"
   },
   "source": [
    "# What is polymorpism? Explain it with an example.\n",
    "**Ans:** Polymorphism in Python refers to the ability of different objects to respond to the same method or function call in a way that is appropriate to their type. This concept allows for a unified interface for different data types, enhancing flexibility and reusability in code."
   ]
  },
  {
   "cell_type": "code",
   "execution_count": null,
   "metadata": {
    "id": "HGgXRWRpV0rg"
   },
   "outputs": [],
   "source": [
    "# Example\n",
    "\n",
    "class Animal:\n",
    "    def speak(self):\n",
    "        raise NotImplementedError(\"Subclasses must implement this method\")\n",
    "\n",
    "class Dog(Animal):\n",
    "    def speak(self):\n",
    "        return \"Woof!\"\n",
    "\n",
    "class Cat(Animal):\n",
    "    def speak(self):\n",
    "        return \"Meow!\"\n",
    "\n",
    "class Duck(Animal):\n",
    "    def speak(self):\n",
    "        return \"Quack!\"\n",
    "\n",
    "def make_animal_speak(animal):\n",
    "    print(animal.speak())\n",
    "\n",
    "# Create instances of each animal\n",
    "dog = Dog()\n",
    "cat = Cat()\n",
    "duck = Duck()\n",
    "\n",
    "# Pass each animal to the function\n",
    "make_animal_speak(dog)  # Output: Woof!\n",
    "make_animal_speak(cat)  # Output: Meow!\n",
    "make_animal_speak(duck) # Output: Quack!"
   ]
  },
  {
   "cell_type": "markdown",
   "metadata": {
    "id": "5LWNbZrnV0rg"
   },
   "source": [
    "# Question 1.3:"
   ]
  },
  {
   "cell_type": "markdown",
   "metadata": {
    "id": "bBp-J5KxV0rg"
   },
   "source": [
    "# a) add an element \"freedom_fighter\" in this list at the 0th index."
   ]
  },
  {
   "cell_type": "code",
   "execution_count": null,
   "metadata": {
    "id": "eCithGWVV0rh",
    "outputId": "6f60fefe-c509-42df-c33d-f11781daf6c4"
   },
   "outputs": [
    {
     "name": "stdout",
     "output_type": "stream",
     "text": [
      "['freedom_fighter', 'Mohan', 'dash', 'karam', 'chandra', 'gandhi', 'Bapu']\n"
     ]
    }
   ],
   "source": [
    "name = [\"Mohan\", \"dash\", \"karam\", \"chandra\",\"gandhi\",\"Bapu\"]\n",
    "name.insert(0, \"freedom_fighter\")\n",
    "print(name)"
   ]
  },
  {
   "cell_type": "markdown",
   "metadata": {
    "id": "T_emIUFSV0rh"
   },
   "source": [
    "# b) find the output of the following ,and explain how?\n",
    "\n",
    "**Ans:**\n",
    "\n",
    "1. **List initialization:**\n",
    "    - `name = [\"freedomFighter\",\"Bapuji\",\"MOhan\", \"dash\", \"karam\", \"chandra\",\"gandhi\"]`\n",
    "  \n",
    "\n",
    "2. **Calculation of `length1`:**\n",
    "\n",
    "    - `len(name)` gives the length of the list `name`, which is `7`\n",
    "    - `-len(name)` results in -7.\n",
    "    - `name[-len(name)+1:-1:2]`translates to `name[-7+1:-1:2]`, simplifies to `name[-6:-1:2]`.\n",
    "    - The slicing `name[-6:-1:2]` means start from the 2nd element to the second last element with a step of 2.\n",
    "    - `name[-6:-1:2]` gives `['Bapuji', 'dash', 'chandra']`.\n",
    "    - The length of this list is 3.\n",
    "  \n",
    "3. **Calculation of `length2`:**\n",
    "\n",
    "    - `name[-len(name)+1:-1]` translates to `name[-6:-1]`.\n",
    "    - The slicing `name[-6:-1]` means start from the 2nd element to the second last element.\n",
    "    - `name[-6:-1]` gives `['Bapuji', 'MOhan', 'dash', 'karam', 'chandra']`.\n",
    "    - The length of this list is 5.\n",
    "  \n",
    "4. **Final Calculation and Output: `(length1 + length2)`**\n",
    "\n",
    "    - `length1` is 3 and `length2` is 5\n",
    "    - The sum is `3 + 5 = 8`.\n"
   ]
  },
  {
   "cell_type": "code",
   "execution_count": null,
   "metadata": {
    "id": "OXWQluv0V0rh",
    "outputId": "8a548f4d-b5e2-4e75-a586-29370cbcb3f1"
   },
   "outputs": [
    {
     "name": "stdout",
     "output_type": "stream",
     "text": [
      "8\n"
     ]
    }
   ],
   "source": [
    "name = [\"freedomFighter\",\"Bapuji\",\"MOhan\", \"dash\", \"karam\", \"chandra\",\"gandhi\"]\n",
    "length1=len((name[-len(name)+1:-1:2]))\n",
    "length2=len((name[-len(name)+1:-1]))\n",
    "print(length1+length2)"
   ]
  },
  {
   "cell_type": "markdown",
   "metadata": {
    "id": "OkMNYxZqV0rh"
   },
   "source": [
    "# c) add two more elements in the name [\"NetaJi\",\"Bose\"] at the end of the list."
   ]
  },
  {
   "cell_type": "code",
   "execution_count": null,
   "metadata": {
    "id": "w8IbzG08V0ri",
    "outputId": "4aec561d-e3e4-47d0-b506-6c2f8851f3ce"
   },
   "outputs": [
    {
     "name": "stdout",
     "output_type": "stream",
     "text": [
      "['freedomFighter', 'Bapuji', 'MOhan', 'dash', 'karam', 'chandra', 'gandhi', 'NetaJi', 'Bose']\n"
     ]
    }
   ],
   "source": [
    "name = [\"freedomFighter\",\"Bapuji\",\"MOhan\", \"dash\", \"karam\", \"chandra\",\"gandhi\"]\n",
    "name.extend([\"NetaJi\",\"Bose\"])\n",
    "print(name)"
   ]
  },
  {
   "cell_type": "code",
   "execution_count": null,
   "metadata": {
    "id": "5SKlGR2rV0ri",
    "outputId": "cb56d963-ee7d-40d9-d241-d3fc1bab6fec"
   },
   "outputs": [
    {
     "name": "stdout",
     "output_type": "stream",
     "text": [
      "['Mohan', 'dash', 'karam', 'chandra', 'gandi', 'Bapuji']\n",
      "Value of temp: Mohan\n"
     ]
    }
   ],
   "source": [
    "# d) what will be the value of temp:\n",
    "name = [\"Bapuji\", \"dash\", \"karam\", \"chandra\",\"gandi\",\"Mohan\"]\n",
    "temp=name[-1]\n",
    "name[-1]=name[0]\n",
    "name[0]=temp\n",
    "print(name)\n",
    "print(f\"Value of temp: {temp}\")"
   ]
  },
  {
   "cell_type": "markdown",
   "metadata": {
    "id": "0d8QwHbcV0ri"
   },
   "source": [
    "# Question 1.4.Find the output of the following."
   ]
  },
  {
   "cell_type": "code",
   "execution_count": null,
   "metadata": {
    "id": "7saTwYshV0ri",
    "outputId": "8ad7d64c-1652-440f-91fe-74f8493524af"
   },
   "outputs": [
    {
     "name": "stdout",
     "output_type": "stream",
     "text": [
      "2\n",
      "4\n",
      "7\n"
     ]
    }
   ],
   "source": [
    "\n",
    "animal = ['Human','cat','mat','cat','rat','Human', 'Lion']\n",
    "print(animal.count('Human'))\n",
    "print(animal.index('rat'))\n",
    "print(len(animal))"
   ]
  },
  {
   "cell_type": "markdown",
   "metadata": {
    "id": "1-ds2-VbV0rj"
   },
   "source": [
    "# Question 1.5."
   ]
  },
  {
   "cell_type": "code",
   "execution_count": null,
   "metadata": {
    "id": "ylKs2V2BV0rj"
   },
   "outputs": [],
   "source": [
    "tuple1=(10,20,\"Apple\",3.4,'a',[\"master\",\"ji\"],(\"sita\",\"geeta\",22),[{\"roll_no\":1}, {\"name\":\"Navneet\"}])"
   ]
  },
  {
   "cell_type": "code",
   "execution_count": null,
   "metadata": {
    "id": "79akRpQqV0rj",
    "outputId": "890b267c-70b1-489d-e1a5-c0a62d842506"
   },
   "outputs": [
    {
     "data": {
      "text/plain": [
       "22"
      ]
     },
     "execution_count": 20,
     "metadata": {},
     "output_type": "execute_result"
    }
   ],
   "source": [
    "tuple1[6][2]"
   ]
  },
  {
   "cell_type": "code",
   "execution_count": null,
   "metadata": {
    "id": "zdndUijsV0rj",
    "outputId": "d73c94a0-b51f-4be5-acea-333177c2b363"
   },
   "outputs": [
    {
     "name": "stdout",
     "output_type": "stream",
     "text": [
      "8\n",
      "Navneet\n",
      "Value of roll_no is 1\n",
      "ji\n",
      "22\n"
     ]
    }
   ],
   "source": [
    "# a)\n",
    "print(len(tuple1))\n",
    "\n",
    "# b)\n",
    "print(tuple1[-1][-1][\"name\"])\n",
    "\n",
    "# c) fetch the value of roll_no from this tuple.\n",
    "print(f'Value of roll_no is {tuple1[7][0]['roll_no']}')\n",
    "\n",
    "# d)\n",
    "print(tuple1[-3][1])\n",
    "\n",
    "# e)fetch the element \"22\" from this tuple.\n",
    "print(tuple1[6][2])"
   ]
  },
  {
   "cell_type": "markdown",
   "metadata": {
    "id": "L8peki2IV0rk"
   },
   "source": [
    "# 1.6. Write a program to display the appropriate message as per the color of signal(RED-Stop/Yellow-Stay/Green-Go) at the road crossing."
   ]
  },
  {
   "cell_type": "code",
   "execution_count": null,
   "metadata": {
    "id": "W6j-GRh1V0rk",
    "outputId": "5408ca79-38ef-42ae-af55-42b2d1a7d496"
   },
   "outputs": [
    {
     "name": "stdin",
     "output_type": "stream",
     "text": [
      "Enter the color: red\n"
     ]
    },
    {
     "name": "stdout",
     "output_type": "stream",
     "text": [
      "Stop\n"
     ]
    }
   ],
   "source": [
    "color = input(\"Enter the color:\").capitalize()\n",
    "\n",
    "if color == 'Red':\n",
    "    print('Stop')\n",
    "\n",
    "elif color == 'Yellow':\n",
    "    print('Stay')\n",
    "\n",
    "elif color == 'Green':\n",
    "    print('Go')\n",
    "\n",
    "else:\n",
    "    raise Exception(\"Enter only the color of road crossing signal.\")"
   ]
  },
  {
   "cell_type": "markdown",
   "metadata": {
    "id": "y2pShOq5V0rk"
   },
   "source": [
    "# 1.7. Write a program to create a simple calculator performing only four basic operations(+,-,/,*) ."
   ]
  },
  {
   "cell_type": "code",
   "execution_count": null,
   "metadata": {
    "id": "40e75GeDV0rk",
    "outputId": "f2b5770d-d3d2-41c2-f33c-27ba2547cc61"
   },
   "outputs": [
    {
     "name": "stdin",
     "output_type": "stream",
     "text": [
      "Enter the Number 1:  34\n",
      "Enter the operator (+, -, /, *):  +\n",
      "Enter the Number 2:  4\n"
     ]
    },
    {
     "name": "stdout",
     "output_type": "stream",
     "text": [
      "Sum: 38\n"
     ]
    }
   ],
   "source": [
    "num1 = int(input(\"Enter the Number 1: \"))\n",
    "operator = input(\"Enter the operator (+, -, /, *): \")\n",
    "num2 = int(input(\"Enter the Number 2: \"))\n",
    "\n",
    "if operator == '+':\n",
    "    print(f\"Sum: {num1+num2}\")\n",
    "\n",
    "elif operator == '-':\n",
    "    print(f'Difference: {num1-num2}')\n",
    "\n",
    "elif operator == '*':\n",
    "    print(f'Product: {num1*num2}')\n",
    "\n",
    "elif operator == '/':\n",
    "    print(f'Quotient: {num1/num2}')\n",
    "\n",
    "else:\n",
    "    raise Exception(\"Enter valid operator.\")"
   ]
  },
  {
   "cell_type": "markdown",
   "metadata": {
    "id": "uyq6V-qzV0rl"
   },
   "source": [
    "# 1.8. Write a program to find the larger of the three pre-specified numbers using ternary operators."
   ]
  },
  {
   "cell_type": "code",
   "execution_count": null,
   "metadata": {
    "id": "molKBwIwV0rl",
    "outputId": "a0455d71-1114-44d6-9c8d-5abf9c1e8832"
   },
   "outputs": [
    {
     "data": {
      "text/plain": [
       "'x is greater than y'"
      ]
     },
     "execution_count": 50,
     "metadata": {},
     "output_type": "execute_result"
    }
   ],
   "source": [
    "x = 30\n",
    "y = 25\n",
    "z = 20\n",
    "\n",
    "\"x is greater than y\" if x > y and x > z else (\"y is greatest\" if y > z else \"z is greatest\")"
   ]
  },
  {
   "cell_type": "markdown",
   "metadata": {
    "id": "rgBdElniV0rl"
   },
   "source": [
    "# 1.9. Write a program to find the factors of a whole number using a while loop."
   ]
  },
  {
   "cell_type": "code",
   "execution_count": null,
   "metadata": {
    "id": "fD5zP8zRV0rm",
    "outputId": "06010b5c-0d32-42e5-e6ce-931097888e09"
   },
   "outputs": [
    {
     "name": "stdin",
     "output_type": "stream",
     "text": [
      "Enter the number:  100\n"
     ]
    },
    {
     "name": "stdout",
     "output_type": "stream",
     "text": [
      "[1, 2, 4, 5, 10, 20, 25, 50, 100]\n"
     ]
    }
   ],
   "source": [
    "num = int(input(\"Enter the number: \"))\n",
    "divisor = 1\n",
    "factors = []\n",
    "\n",
    "while divisor <= num:\n",
    "    if num % divisor == 0:\n",
    "        factors.append(divisor)\n",
    "    divisor += 1\n",
    "print(factors)"
   ]
  },
  {
   "cell_type": "markdown",
   "metadata": {
    "id": "KCAKRgDzV0rm"
   },
   "source": [
    "# 1.10. Write a program to find the sum of all the positive numbers entered by the user. As soon as the user enters a negative number, stop taking in any further input from the user and display the sum ."
   ]
  },
  {
   "cell_type": "code",
   "execution_count": null,
   "metadata": {
    "id": "5bmWPyJJV0rm",
    "outputId": "aaab49c0-f2d2-4e5f-e792-0c4b305e11ea"
   },
   "outputs": [
    {
     "name": "stdin",
     "output_type": "stream",
     "text": [
      "Enter the number:  23\n",
      "Enter the number:  45\n",
      "Enter the number:  13\n",
      "Enter the number:  -1\n"
     ]
    },
    {
     "name": "stdout",
     "output_type": "stream",
     "text": [
      "Sum of all positive numbers is 81\n"
     ]
    }
   ],
   "source": [
    "positive_num = []\n",
    "n = 1\n",
    "\n",
    "while n > 0:\n",
    "    num = int(input('Enter the number: '))\n",
    "    if num > 0:\n",
    "        positive_num.append(num)\n",
    "    else:\n",
    "        break\n",
    "    n*=1\n",
    "\n",
    "\n",
    "print(f\"Sum of all positive numbers is {sum(positive_num)}\")"
   ]
  },
  {
   "cell_type": "markdown",
   "metadata": {
    "id": "NP6sb5FPV0rm"
   },
   "source": [
    "# 1.11. Write a program to find prime numbers between 2 to 100 using nested for loops."
   ]
  },
  {
   "cell_type": "code",
   "execution_count": null,
   "metadata": {
    "id": "vNsjwC7IV0rn",
    "outputId": "8e05292c-37ad-4056-e556-807d5a9746a5"
   },
   "outputs": [
    {
     "name": "stdout",
     "output_type": "stream",
     "text": [
      "2\n",
      "3\n",
      "5\n",
      "7\n",
      "11\n",
      "13\n",
      "17\n",
      "19\n",
      "23\n",
      "29\n",
      "31\n",
      "37\n",
      "41\n",
      "43\n",
      "47\n",
      "53\n",
      "59\n",
      "61\n",
      "67\n",
      "71\n",
      "73\n",
      "79\n",
      "83\n",
      "89\n",
      "97\n"
     ]
    }
   ],
   "source": [
    "for num in range(2, 101):\n",
    "    is_prime = True\n",
    "    for i in range(2, int(num**0.5) + 1):\n",
    "        if num % i == 0:\n",
    "            is_prime = False\n",
    "            break\n",
    "    if is_prime:\n",
    "        print(num)\n"
   ]
  },
  {
   "attachments": {
    "bae6f4c5-8fea-4b7e-bf81-ab4ab3c8eae0.png": {
     "image/png": "[encoded data removed]"
    }
   },
   "cell_type": "markdown",
   "metadata": {
    "id": "oy1-NoO_V0rn"
   },
   "source": [
    "# 1.12. Write the programs for the following:\n",
    "- ### Accept the marks of the student in five major subjects and display the same?\n",
    "- ### Calculate the sum of the marks of all subjects.Divide the total marks by number of subjects (i.e. 5), calculate\n",
    "- ### percentage = total marks/5 and display the percentage?\n",
    "- ### Find the grade of the student as per the following criteria . Hint: Use Match & case for this.:\n",
    "- ![image.png](attachment:bae6f4c5-8fea-4b7e-bf81-ab4ab3c8eae0.png)"
   ]
  },
  {
   "cell_type": "code",
   "execution_count": null,
   "metadata": {
    "id": "cjb4f9FIV0rn",
    "outputId": "256803f9-6922-425a-874e-ba5dd656dc75"
   },
   "outputs": [
    {
     "name": "stdin",
     "output_type": "stream",
     "text": [
      "Enter the marks for subject 1:  56\n",
      "Enter the marks for subject 2:  78\n",
      "Enter the marks for subject 3:  90\n",
      "Enter the marks for subject 4:  45\n",
      "Enter the marks for subject 5:  67\n"
     ]
    },
    {
     "name": "stdout",
     "output_type": "stream",
     "text": [
      "\n",
      "Marks in five major subjects:\n",
      "Subject 1: 56\n",
      "Subject 2: 78\n",
      "Subject 3: 90\n",
      "Subject 4: 45\n",
      "Subject 5: 67\n",
      "\n",
      "Total Marks: 336\n",
      "Percentage: 67.2%\n",
      "Grade: C\n"
     ]
    }
   ],
   "source": [
    "def main():\n",
    "    # Accept the marks of the student in five major subjects\n",
    "    marks = []\n",
    "    for i in range(5):\n",
    "        mark = int(input(f\"Enter the marks for subject {i+1}: \"))\n",
    "        marks.append(mark)\n",
    "\n",
    "    # Display the marks\n",
    "    print(\"\\nMarks in five major subjects:\")\n",
    "    for i, mark in enumerate(marks, start=1):\n",
    "        print(f\"Subject {i}: {mark}\")\n",
    "\n",
    "    # Calculate the sum of the marks of all subjects\n",
    "    total_marks = sum(marks)\n",
    "    print(f\"\\nTotal Marks: {total_marks}\")\n",
    "\n",
    "    # Calculate the percentage\n",
    "    percentage = total_marks / 5\n",
    "    print(f\"Percentage: {percentage}%\")\n",
    "\n",
    "    # Find the grade based on the criteria\n",
    "    grade = \"\"\n",
    "    match percentage:\n",
    "        case _ if percentage > 85:\n",
    "            grade = \"A\"\n",
    "        case _ if 75 <= percentage <= 85:\n",
    "            grade = \"B\"\n",
    "        case _ if 50 <= percentage < 75:\n",
    "            grade = \"C\"\n",
    "        case _ if 30 <= percentage < 50:\n",
    "            grade = \"D\"\n",
    "        case _ if percentage < 30:\n",
    "            grade = \"Reappear\"\n",
    "\n",
    "    print(f\"Grade: {grade}\")\n",
    "\n",
    "if __name__ == \"__main__\":\n",
    "    main()\n"
   ]
  },
  {
   "attachments": {
    "11200924-f4a5-4515-ba41-96fd23bb52b1.png": {
     "image/png": "[encoded data removed]"
    }
   },
   "cell_type": "markdown",
   "metadata": {
    "id": "R2J2weyrV0ro"
   },
   "source": [
    "# 1.13. Write a program for VIBGYOR Spectrum based on their Wavelength using.Wavelength Range:\n",
    "![image.png](attachment:11200924-f4a5-4515-ba41-96fd23bb52b1.png)"
   ]
  },
  {
   "cell_type": "code",
   "execution_count": null,
   "metadata": {
    "id": "WdeF5Qr4V0ro",
    "outputId": "aa3193d7-3eb7-4d92-fcb7-ca35a2aa66dd"
   },
   "outputs": [
    {
     "name": "stdout",
     "output_type": "stream",
     "text": [
      "The color for the wavelength 480.0 nm is Blue.\n"
     ]
    }
   ],
   "source": [
    "def wavelength_to_color(wavelength):\n",
    "    if 400.0 <= wavelength < 440.0:\n",
    "        return \"Violet\"\n",
    "\n",
    "    elif 440.0 <= wavelength < 460.0:\n",
    "        return \"Indigo\"\n",
    "\n",
    "    elif 460.0 <= wavelength < 500.0:\n",
    "        return \"Blue\"\n",
    "\n",
    "    elif 500.0 <= wavelength < 570.0:\n",
    "        return \"Green\"\n",
    "\n",
    "    elif 570.0 <= wavelength < 590.0:\n",
    "        return \"Yellow\"\n",
    "\n",
    "    elif 590.0 <= wavelength < 620.0:\n",
    "        return \"Orange\"\n",
    "\n",
    "    elif 620.0 <= wavelength < 720.0:\n",
    "        return \"Red\"\n",
    "\n",
    "    else:\n",
    "        return \"Wavelength out of range\"\n",
    "\n",
    "# Test the function with a sample wavelength\n",
    "sample_wavelength = 480.0\n",
    "color = wavelength_to_color(sample_wavelength)\n",
    "print(f\"The color for the wavelength {sample_wavelength} nm is {color}.\")\n"
   ]
  },
  {
   "cell_type": "markdown",
   "metadata": {
    "id": "tg8vUr6SV0rp"
   },
   "source": [
    "# 1.14.Consider the gravitational interactions between the Earth, Moon, and Sun in our solar system.\n",
    "**Given:**\n",
    "- mass_earth = 5.972e24         # Mass of Earth in kilograms\n",
    "- mass_moon = 7.34767309e22     # Mass of Moon in kilograms\n",
    "- mass_sun = 1.989e30           # Mass of Sun in kilograms\n",
    "- distance_earth_sun = 1.496e11 # Average distance between Earth and Sun in meters\n",
    "- distance_moon_earth = 3.844e8 # Average distance between Moon and Earth in meters\n",
    "\n",
    "**Tasks:**\n",
    "* Calculate the gravitational force between the Earth and the Sun.\n",
    "* Calculate the gravitational force between the Moon and the Earth.\n",
    "* Compare the calculated forces to determine which gravitational force is stronger.\n",
    "* Explain which celestial body (Earth or Moon) is more attracted to the other based on the comparison."
   ]
  },
  {
   "cell_type": "code",
   "execution_count": null,
   "metadata": {
    "id": "0XHK-HvhV0rp",
    "outputId": "5f68bfcd-ab7f-4388-ba8c-299f89db19fb"
   },
   "outputs": [
    {
     "data": {
      "text/plain": [
       "(3.5423960813684973e+22, 1.9820225456526813e+20)"
      ]
     },
     "execution_count": 2,
     "metadata": {},
     "output_type": "execute_result"
    }
   ],
   "source": [
    "# Constants\n",
    "G = 6.67430e-11  # Gravitational constant in m^3 kg^-1 s^-2\n",
    "\n",
    "# Given masses and distances\n",
    "mass_earth = 5.972e24  # Mass of Earth in kilograms\n",
    "mass_moon = 7.34767309e22  # Mass of Moon in kilograms\n",
    "mass_sun = 1.989e30  # Mass of Sun in kilograms\n",
    "distance_earth_sun = 1.496e11  # Average distance between Earth and Sun in meters\n",
    "distance_moon_earth = 3.844e8  # Average distance between Moon and Earth in meters\n",
    "\n",
    "# Gravitational force between Earth and Sun\n",
    "force_earth_sun = G * (mass_earth * mass_sun) / distance_earth_sun**2\n",
    "\n",
    "# Gravitational force between Moon and Earth\n",
    "force_moon_earth = G * (mass_moon * mass_earth) / distance_moon_earth**2\n",
    "\n",
    "force_earth_sun, force_moon_earth\n"
   ]
  },
  {
   "cell_type": "markdown",
   "metadata": {
    "id": "Cc7erwmLV0rp"
   },
   "source": [
    "1. Gravitational force between the Earth and the Sun:\n",
    "- 3.542 × 10^22  Newtons\n",
    "\n",
    "2. Gravitational force between the Moon and the Earth:\n",
    "- 1.982 × 10^20  Newtons\n",
    "\n",
    "# Comparison:\n",
    "**The gravitational force between the Earth and the Sun is significantly stronger than the gravitational force between the Moon and the Earth.**\n",
    "\n",
    "# Explanation:\n",
    "**The Earth is more strongly attracted to the Sun compared to how the Moon is attracted to the Earth. This is evident from the much larger gravitational force between the Earth and the Sun.**"
   ]
  },
  {
   "cell_type": "markdown",
   "metadata": {
    "id": "pYcjPrxOV0rq"
   },
   "source": [
    "# 2. Design and implement a Python program for managing student information using object-oriented principles. Create a class called `Student` with encapsulated attributes for name, age, and roll number. Implement getter and setter methods for these attributes. Additionally, provide methods to display student information and update student details.\n",
    "**Tasks:**\n",
    "- Define the `Student` class with encapsulated attributes.\n",
    "- Implement getter and setter methods for the attributes.\n",
    "- Write methods to display student information and update details.\n",
    "- Create instances of the `Student` class and test the implemented functionality."
   ]
  },
  {
   "cell_type": "code",
   "execution_count": null,
   "metadata": {
    "id": "_0Eq6eP0V0rq"
   },
   "outputs": [],
   "source": [
    "class Student:\n",
    "    def __init__(self, name, age, roll_number):\n",
    "        self.__name = name\n",
    "        self.__age = age\n",
    "        self.__roll_number = roll_number\n",
    "\n",
    "    def setter(self, name, age, roll_number):\n",
    "        self.__name = name\n",
    "        self.__age = age\n",
    "        self.__roll_number = roll_number\n",
    "\n",
    "    def getter(self):\n",
    "        return self.__name , self.__age , self.__roll_number"
   ]
  },
  {
   "cell_type": "code",
   "execution_count": null,
   "metadata": {
    "id": "T4ZQFUUCV0rq"
   },
   "outputs": [],
   "source": [
    "stud = Student(\"Aagam\", 21, 34)"
   ]
  },
  {
   "cell_type": "code",
   "execution_count": null,
   "metadata": {
    "id": "5ze6RLMcV0rq",
    "outputId": "caac32e3-0119-4dd8-82bb-c2883bee814f"
   },
   "outputs": [
    {
     "data": {
      "text/plain": [
       "('Aagam', 21, 34)"
      ]
     },
     "execution_count": 8,
     "metadata": {},
     "output_type": "execute_result"
    }
   ],
   "source": [
    "stud.getter()"
   ]
  },
  {
   "cell_type": "code",
   "execution_count": null,
   "metadata": {
    "id": "50_IOs2aV0rr"
   },
   "outputs": [],
   "source": [
    "stud.setter(\"Rohan\", 22, 33)"
   ]
  },
  {
   "cell_type": "code",
   "execution_count": null,
   "metadata": {
    "id": "HkktEpBNV0rr",
    "outputId": "3e8ee6db-d151-4c78-84c2-3879ca9d4ed3"
   },
   "outputs": [
    {
     "data": {
      "text/plain": [
       "('Rohan', 22, 33)"
      ]
     },
     "execution_count": 11,
     "metadata": {},
     "output_type": "execute_result"
    }
   ],
   "source": [
    "stud.getter()"
   ]
  },
  {
   "cell_type": "markdown",
   "metadata": {
    "id": "xG8-1n4FV0rr"
   },
   "source": [
    "# 3.Develop a Python program for managing library resources efficiently. Design a class named `LibraryBook` with attributes like book name, author, and availability status. Implement methods for borrowing and returning books while ensuring proper encapsulation of attributes.\n",
    "**Tasks:**\n",
    "- 1. Create the `LibraryBook` class with encapsulated attributes.\n",
    "- 2. Implement methods for borrowing and returning books.\n",
    "- 3. Ensure proper encapsulation to protect book details.\n",
    "- 4. Test the borrowing and returning functionality with sample data."
   ]
  },
  {
   "cell_type": "code",
   "execution_count": null,
   "metadata": {
    "id": "uM1hcY4yV0rs"
   },
   "outputs": [],
   "source": [
    "class LibraryBook:\n",
    "    def __init__(self, book_name, author, availability):\n",
    "        self.__book_name = book_name\n",
    "        self.__author = author\n",
    "        self.__availability = availability\n",
    "    def borrowing(self):\n",
    "        print(\"Book is borrowed\")\n",
    "    def returning(self):\n",
    "        print(\"Book is returned\")"
   ]
  },
  {
   "cell_type": "code",
   "execution_count": null,
   "metadata": {
    "id": "jgFmvD-yV0rs"
   },
   "outputs": [],
   "source": [
    "library = LibraryBook('Atomic Habit', \"James Clear\", \"Out of stock\")"
   ]
  },
  {
   "cell_type": "code",
   "execution_count": null,
   "metadata": {
    "id": "o1jBGgNgV0rs",
    "outputId": "f96f7e5e-4421-43d1-a117-c0d11812dec6"
   },
   "outputs": [
    {
     "name": "stdout",
     "output_type": "stream",
     "text": [
      "Book is borrowed\n"
     ]
    }
   ],
   "source": [
    "library.borrowing()"
   ]
  },
  {
   "cell_type": "code",
   "execution_count": null,
   "metadata": {
    "id": "HMnFqv0tV0rs",
    "outputId": "579754e4-cb2b-449a-f95e-535c0159556b"
   },
   "outputs": [
    {
     "name": "stdout",
     "output_type": "stream",
     "text": [
      "Book is returned\n"
     ]
    }
   ],
   "source": [
    "library.returning()"
   ]
  },
  {
   "cell_type": "markdown",
   "metadata": {
    "id": "ofhTRcM_V0rt"
   },
   "source": [
    "# 4.Create a simple banking system using object-oriented concepts in Python. Design classes representing different types of bank accounts such as savings and checking. Implement methods for deposit, withdraw, and balance inquiry. Utilize inheritance to manage different account types efficiently.\n",
    "**Tasks:**\n",
    "- 1. Define base class(es) for bank accounts with common attributes and methods.\n",
    "- 2. Implement subclasses for specific account types (e.g., SavingsAccount, CheckingAccount).\n",
    "- 3. Provide methods for deposit, withdraw, and balance inquiry in each subclass.\n",
    "- 4. Test the banking system by creating instances of different account types and performing transactions."
   ]
  },
  {
   "cell_type": "code",
   "execution_count": null,
   "metadata": {
    "id": "8ZbX0HZaV0rt"
   },
   "outputs": [],
   "source": [
    "class BankAccount:\n",
    "    def __init__(self, account_number, account_holder, balance=0):\n",
    "        self.account_number = account_number\n",
    "        self.account_holder = account_holder\n",
    "        self.balance = balance\n",
    "\n",
    "    def deposit(self, amount):\n",
    "        if amount > 0:\n",
    "            self.balance += amount\n",
    "            print(f\"Deposited ₹{amount:.2f}. New balance: ₹{self.balance:.2f}\")\n",
    "        else:\n",
    "            print(\"Deposit amount must be positive\")\n",
    "\n",
    "    def withdraw(self, amount):\n",
    "        if 0 < amount <= self.balance:\n",
    "            self.balance -= amount\n",
    "            print(f\"Withdrew ₹{amount:.2f}. New balance: ₹{self.balance:.2f}\")\n",
    "        else:\n",
    "            print(\"Invalid withdrawal amount\")\n",
    "\n",
    "    def get_balance(self):\n",
    "        return self.balance\n",
    "\n",
    "    def __str__(self):\n",
    "        return f\"Account[{self.account_number}] - Holder: {self.account_holder}, Balance: ₹{self.balance:.2f}\""
   ]
  },
  {
   "cell_type": "code",
   "execution_count": null,
   "metadata": {
    "id": "F_0ZjuBpV0rt"
   },
   "outputs": [],
   "source": [
    "class SavingsAccount(BankAccount):\n",
    "    def __init__(self, account_number, account_holder, balance=0, interest_rate=0.02):\n",
    "        super().__init__(account_number, account_holder, balance)\n",
    "        self.interest_rate = interest_rate\n",
    "\n",
    "    def apply_interest(self):\n",
    "        interest = self.balance * self.interest_rate\n",
    "        self.balance += interest\n",
    "        print(f\"Applied ₹{interest:.2f} interest. New balance: ₹{self.balance:.2f}\")\n",
    "\n",
    "    def __str__(self):\n",
    "        return f\"SavingsAccount[{self.account_number}] - Holder: {self.account_holder}, Balance: ₹{self.balance:.2f}, Interest Rate: {self.interest_rate * 100}%\""
   ]
  },
  {
   "cell_type": "code",
   "execution_count": null,
   "metadata": {
    "id": "qok3WVyoV0rt"
   },
   "outputs": [],
   "source": [
    "class CheckingAccount(BankAccount):\n",
    "    def __init__(self, account_number, account_holder, balance=0, overdraft_limit=100):\n",
    "        super().__init__(account_number, account_holder, balance)\n",
    "        self.overdraft_limit = overdraft_limit\n",
    "\n",
    "    def withdraw(self, amount):\n",
    "        if 0 < amount <= self.balance + self.overdraft_limit:\n",
    "            self.balance -= amount\n",
    "            print(f\"Withdrew ₹{amount:.2f}. New balance: ₹{self.balance:.2f}\")\n",
    "        else:\n",
    "            print(\"Invalid withdrawal amount or exceeds overdraft limit\")\n",
    "\n",
    "    def __str__(self):\n",
    "        return f\"CheckingAccount[{self.account_number}] - Holder: {self.account_holder}, Balance: ₹{self.balance:.2f}, Overdraft Limit: ₹{self.overdraft_limit:.2f}\""
   ]
  },
  {
   "cell_type": "code",
   "execution_count": null,
   "metadata": {
    "id": "5y-wE_OIV0ru",
    "outputId": "db85d120-8865-4ea0-8f48-7e31154d5da6"
   },
   "outputs": [
    {
     "name": "stdout",
     "output_type": "stream",
     "text": [
      "SavingsAccount[SA123] - Holder: Aagam, Balance: ₹1000.00, Interest Rate: 2.0%\n",
      "Deposited ₹200.00. New balance: ₹1200.00\n",
      "Withdrew ₹50.00. New balance: ₹1150.00\n",
      "Applied ₹23.00 interest. New balance: ₹1173.00\n",
      "SavingsAccount[SA123] - Holder: Aagam, Balance: ₹1173.00, Interest Rate: 2.0%\n"
     ]
    }
   ],
   "source": [
    "savings = SavingsAccount(\"SA123\", \"Aagam\", 1000)\n",
    "\n",
    "\n",
    "print(savings)\n",
    "savings.deposit(200)\n",
    "savings.withdraw(50)\n",
    "savings.apply_interest()\n",
    "print(savings)"
   ]
  },
  {
   "cell_type": "code",
   "execution_count": null,
   "metadata": {
    "id": "xBz-Hu8mV0ru",
    "outputId": "657a3bb9-aa91-4918-e1ac-cc621b197ae3"
   },
   "outputs": [
    {
     "name": "stdout",
     "output_type": "stream",
     "text": [
      "CheckingAccount[CA456] - Holder: Bob, Balance: ₹500.00, Overdraft Limit: ₹100.00\n",
      "Deposited ₹300.00. New balance: ₹800.00\n",
      "Invalid withdrawal amount or exceeds overdraft limit\n",
      "Withdrew ₹900.00. New balance: ₹-100.00\n",
      "CheckingAccount[CA456] - Holder: Bob, Balance: ₹-100.00, Overdraft Limit: ₹100.00\n"
     ]
    }
   ],
   "source": [
    "checking = CheckingAccount(\"CA456\", \"Bob\", 500)\n",
    "\n",
    "print(checking)\n",
    "checking.deposit(300)\n",
    "checking.withdraw(1000)\n",
    "checking.withdraw(900)\n",
    "print(checking)"
   ]
  },
  {
   "cell_type": "markdown",
   "metadata": {
    "id": "DPwFLlVuV0ru"
   },
   "source": [
    "# 5.Write a Python program that models different animals and their sounds. Design a base class called `Animal` with a method `make_sound()`. Create subclasses like `Dog` and `Cat` that override the `make_sound()` method to produce appropriate sounds.\n",
    "**Tasks:**\n",
    "- 1. Define the `Animal` class with a method `make_sound()`.\n",
    "- 2. Create subclasses `Dog` and `Cat` that override the `make_sound()` method.\n",
    "- 3. Implement the sound generation logic for each subclass.\n",
    "- 4. Test the program by creating instances of `Dog` and `Cat` and calling the `make_sound()` method."
   ]
  },
  {
   "cell_type": "code",
   "execution_count": null,
   "metadata": {
    "id": "Uq2X6_v3V0rv"
   },
   "outputs": [],
   "source": [
    "class Animal:\n",
    "\n",
    "    def make_sound(self):\n",
    "        print(\"Generic animal sound\")\n",
    "\n",
    "class Dog(Animal):\n",
    "\n",
    "    def make_sound(self):\n",
    "        print(\"Bark!\")\n",
    "\n",
    "class Cat(Animal):\n",
    "\n",
    "    def make_sound(self):\n",
    "        print('Meow!')\n"
   ]
  },
  {
   "cell_type": "code",
   "execution_count": null,
   "metadata": {
    "id": "5zOfK7-CV0rv",
    "outputId": "e9003b82-4c14-4f26-d015-4b6ffce2fd43"
   },
   "outputs": [
    {
     "name": "stdout",
     "output_type": "stream",
     "text": [
      "Bark!\n",
      "Meow!\n"
     ]
    }
   ],
   "source": [
    "dog = Dog()\n",
    "cat = Cat()\n",
    "\n",
    "dog.make_sound()\n",
    "cat.make_sound()"
   ]
  },
  {
   "cell_type": "markdown",
   "metadata": {
    "id": "-B8fIahSV0rv"
   },
   "source": [
    "# 6.Write a code for Restaurant Management System Using OOPS:\n",
    "+ Create, a MenuItem class that has attributes such as name, description, price, and category.\n",
    "+ Implement methods to add a new menu item, update menu item information, and remove a menu item\n",
    "from the menu.\n",
    "+ Use encapsulation to hide the menu item's unique identification number.\n",
    "+ Inherit from the MenuItem class to create a FoodItem class and a BeverageItem class, each with their own\n",
    "specific attributes and methods."
   ]
  },
  {
   "cell_type": "code",
   "execution_count": null,
   "metadata": {
    "id": "ywERfC4YV0rw"
   },
   "outputs": [],
   "source": [
    "class MenuItem:\n",
    "    def __init__(self, name, description, price, category):\n",
    "        self.__id = 1\n",
    "        self.name = [name]\n",
    "        self.description = [description]\n",
    "        self.price = price\n",
    "        self.category = category\n",
    "\n",
    "\n",
    "    def menu_item(self, item):\n",
    "        self.name.append(item)\n",
    "\n",
    "    def menu_information(self, information):\n",
    "        self.description.append(information)\n",
    "\n",
    "    def remove_item(self, item):\n",
    "        self.name.remove(item)\n",
    "\n",
    "class FoodItem(MenuItem):\n",
    "    def __init__(self, name, description, price, category, is_vegetarian):\n",
    "        super().__init__(name, description, price, category)\n",
    "        self.is_vegetarian = is_vegetarian\n",
    "\n",
    "    def check_is_vegetarian(self):\n",
    "        return self.is_vegetarian\n",
    "\n",
    "    def update_is_vegetarian(self, is_vegetarian):\n",
    "        self.is_vegetarian = is_vegetarian\n",
    "\n",
    "\n",
    "class BeverageItem(MenuItem):\n",
    "    def __init__(self, name, description, price, category, cold_drinks):\n",
    "        super().__init__(name, description, price, category)\n",
    "        self.cold_drinks = cold_drinks\n",
    "\n",
    "    def check_cold_drinks(self):\n",
    "        return self.cold_drinks\n",
    "\n",
    "    def update_is_alcoholic(self, drinks):\n",
    "        self.cold_drinks = drinks"
   ]
  },
  {
   "cell_type": "markdown",
   "metadata": {
    "id": "IIHyWvJYV0rw"
   },
   "source": [
    "# 7.Write a code for Hotel Management System using OOPS:\n",
    "+ Create a Room class that has attributes such as room number, room type, rate, and availability (private).\n",
    "+ Implement methods to book a room, check in a guest, and check out a guest.\n",
    "+ Use encapsulation to hide the room's unique identification number.\n",
    "+ Inherit from the Room class to create a SuiteRoom class and a StandardRoom class, each with their own\n",
    "specific attributes and methods."
   ]
  },
  {
   "cell_type": "code",
   "execution_count": null,
   "metadata": {
    "id": "PaJs0IEmV0rw"
   },
   "outputs": [],
   "source": [
    "class Room:\n",
    "    def __init__(self, room_number, room_type, rate):\n",
    "        self._room_number = room_number\n",
    "        self.room_type = room_type\n",
    "        self.rate = rate\n",
    "        self._availability = True\n",
    "\n",
    "    def book_room(self):\n",
    "        if self._availability:\n",
    "            self._availability = False\n",
    "            print(f\"Room {self._room_number} has been booked.\")\n",
    "        else:\n",
    "            print(f\"Room {self._room_number} is already booked.\")\n",
    "\n",
    "    def check_in_guest(self):\n",
    "        if not self._availability:\n",
    "            print(f\"Guest checked into Room {self._room_number}.\")\n",
    "        else:\n",
    "            print(f\"Room {self._room_number} is not booked yet.\")\n",
    "\n",
    "    def check_out_guest(self):\n",
    "        if not self._availability:\n",
    "            self._availability = True\n",
    "            print(f\"Guest checked out of Room {self._room_number}. Room is now available.\")\n",
    "        else:\n",
    "            print(f\"Room {self._room_number} is already available.\")\n",
    "\n",
    "class SuiteRoom(Room):\n",
    "    def __init__(self, room_number, rate, extra_services):\n",
    "        super().__init__(room_number, \"Suite\", rate)\n",
    "        self.extra_services = extra_services\n",
    "\n",
    "    def book_room(self):\n",
    "        super().book_room()\n",
    "        if not self._availability:\n",
    "            print(f\"Additional services available for Suite Room {self._room_number}: {self.extra_services}\")\n",
    "\n",
    "class StandardRoom(Room):\n",
    "    def __init__(self, room_number, rate):\n",
    "        super().__init__(room_number, \"Standard\", rate)"
   ]
  },
  {
   "cell_type": "markdown",
   "metadata": {
    "id": "7bWsd9aLV0rw"
   },
   "source": [
    "# 8.Write a code for Fitness Club Management System using OOPS:\n",
    "+ Create a Member class that has attributes such as name, age, membership type, and membership status\n",
    "(private).\n",
    "+ Implement methods to register a new member, renew a membership, and cancel a membership.\n",
    "+ Use encapsulation to hide the member's unique identification number.\n",
    "+ Inherit from the Member class to create a FamilyMember class and an IndividualMember class, each with\n",
    "their own specific attributes and methods."
   ]
  },
  {
   "cell_type": "code",
   "execution_count": null,
   "metadata": {
    "id": "O9GHSDawV0rx"
   },
   "outputs": [],
   "source": [
    "class Member:\n",
    "    _id_counter = 1\n",
    "\n",
    "    def __init__(self, name, age, membership_type):\n",
    "        self._id = Member._id_counter\n",
    "        Member._id_counter += 1\n",
    "        self.name = name\n",
    "        self.age = age\n",
    "        self.membership_type = membership_type\n",
    "        self._membership_status = 'Active'\n",
    "\n",
    "    def register(self):\n",
    "        return f\"Member {self.name} with ID {self._id} has been registered.\"\n",
    "\n",
    "    def renew_membership(self):\n",
    "        if self._membership_status == 'Active':\n",
    "            return f\"Membership for {self.name} is already active.\"\n",
    "        self._membership_status = 'Active'\n",
    "        return f\"Membership for {self.name} has been renewed.\"\n",
    "\n",
    "    def cancel_membership(self):\n",
    "        if self._membership_status == 'Cancelled':\n",
    "            return f\"Membership for {self.name} is already cancelled.\"\n",
    "        self._membership_status = 'Cancelled'\n",
    "        return f\"Membership for {self.name} has been cancelled.\"\n",
    "\n",
    "\n",
    "class FamilyMember(Member):\n",
    "    def __init__(self, name, age, membership_type, family_name):\n",
    "        super().__init__(name, age, membership_type)\n",
    "        self.family_name = family_name\n",
    "\n",
    "    def family_details(self):\n",
    "        return f\"Family Member: {self.name}, Family Name: {self.family_name}, Membership ID: {self._id}\"\n",
    "\n",
    "\n",
    "class IndividualMember(Member):\n",
    "    def __init__(self, name, age, membership_type, personal_trainer_assigned=False):\n",
    "        super().__init__(name, age, membership_type)\n",
    "        self.personal_trainer_assigned = personal_trainer_assigned\n",
    "\n",
    "    def assign_trainer(self):\n",
    "        self.personal_trainer_assigned = True\n",
    "        return f\"Personal trainer assigned to {self.name}.\"\n",
    "\n",
    "    def individual_details(self):\n",
    "        return f\"Individual Member: {self.name}, Membership ID: {self._id}, Personal Trainer Assigned: {self.personal_trainer_assigned}\""
   ]
  },
  {
   "cell_type": "markdown",
   "metadata": {
    "id": "xyYr0wwaV0rx"
   },
   "source": [
    "# 9.Write a code for Event Management System using OOPS:\n",
    "+ Create an Event class that has attributes such as name, date, time, location, and list of attendees (private).\n",
    "+ Implement methods to create a new event, add or remove attendees, and get the total number of\n",
    "attendees.\n",
    "+ Use encapsulation to hide the event's unique identification number.\n",
    "+ Inherit from the Event class to create a PrivateEvent class and a PublicEvent class, each with their own\n",
    "specific attributes and methods."
   ]
  },
  {
   "cell_type": "code",
   "execution_count": null,
   "metadata": {
    "id": "Sv22QRNNV0rx"
   },
   "outputs": [],
   "source": [
    "class Event:\n",
    "    _id_counter = 0\n",
    "\n",
    "    def __init__(self, name, date, time, location):\n",
    "        self.__id = Event._id_counter\n",
    "        Event._id_counter += 1\n",
    "        self.name = name\n",
    "        self.date = date\n",
    "        self.time = time\n",
    "        self.location = location\n",
    "        self.__attendees = []\n",
    "\n",
    "    def add_attendee(self, attendee):\n",
    "        self.__attendees.append(attendee)\n",
    "\n",
    "    def remove_attendee(self, attendee):\n",
    "        if attendee in self.__attendees:\n",
    "            self.__attendees.remove(attendee)\n",
    "\n",
    "    def get_total_attendees(self):\n",
    "        return len(self.__attendees)\n",
    "\n",
    "    def get_event_id(self):\n",
    "        return self.__id\n",
    "\n",
    "    def get_details(self):\n",
    "        return {\n",
    "            \"id\": self.__id,\n",
    "            \"name\": self.name,\n",
    "            \"date\": self.date,\n",
    "            \"time\": self.time,\n",
    "            \"location\": self.location,\n",
    "            \"attendees\": self.__attendees\n",
    "        }\n",
    "\n",
    "class PrivateEvent(Event):\n",
    "    def __init__(self, name, date, time, location, host):\n",
    "        super().__init__(name, date, time, location)\n",
    "        self.host = host\n",
    "\n",
    "    def get_private_event_details(self):\n",
    "        details = self.get_details()\n",
    "        details[\"host\"] = self.host\n",
    "        return details\n",
    "\n",
    "class PublicEvent(Event):\n",
    "    def __init__(self, name, date, time, location, max_capacity):\n",
    "        super().__init__(name, date, time, location)\n",
    "        self.max_capacity = max_capacity\n",
    "\n",
    "    def add_attendee(self, attendee):\n",
    "        if self.get_total_attendees() < self.max_capacity:\n",
    "            super().add_attendee(attendee)\n",
    "        else:\n",
    "            print(\"Event is at full capacity.\")\n",
    "\n",
    "    def get_public_event_details(self):\n",
    "        details = self.get_details()\n",
    "        details[\"max_capacity\"] = self.max_capacity\n",
    "        return details"
   ]
  },
  {
   "cell_type": "markdown",
   "metadata": {
    "id": "or_hJPqeV0ry"
   },
   "source": [
    "# 10.Write a code for Airline Reservation System using OOPS:\n",
    "+ Create a Flight class that has attributes such as flight number, departure and arrival airports, departure and\n",
    "arrival times, and available seats (private).\n",
    "+ Implement methods to book a seat, cancel a reservation, and get the remaining available seats.\n",
    "+ Use encapsulation to hide the flight's unique identification number.\n",
    "+ Inherit from the Flight class to create a DomesticFlight class and an InternationalFlight class, each with their\n",
    "own specific attributes and methods."
   ]
  },
  {
   "cell_type": "code",
   "execution_count": null,
   "metadata": {
    "id": "i5JqQ-eJV0ry"
   },
   "outputs": [],
   "source": [
    "class Flight:\n",
    "    def __init__(self, flight_number, departure_airport, arrival_airport, departure_time, arrival_time, available_seats):\n",
    "        self.__flight_number = flight_number  # Encapsulated attribute\n",
    "        self.departure_airport = departure_airport\n",
    "        self.arrival_airport = arrival_airport\n",
    "        self.departure_time = departure_time\n",
    "        self.arrival_time = arrival_time\n",
    "        self.__available_seats = available_seats  # Encapsulated attribute\n",
    "\n",
    "    def book_seat(self):\n",
    "        if self.__available_seats > 0:\n",
    "            self.__available_seats -= 1\n",
    "            return f\"Seat booked successfully. Remaining seats: {self.__available_seats}\"\n",
    "        else:\n",
    "            return \"No seats available.\"\n",
    "\n",
    "    def cancel_reservation(self):\n",
    "        self.__available_seats += 1\n",
    "        return f\"Reservation cancelled. Remaining seats: {self.__available_seats}\"\n",
    "\n",
    "    def get_remaining_seats(self):\n",
    "        return self.__available_seats\n",
    "\n",
    "    def get_flight_details(self):\n",
    "        return {\n",
    "            \"Flight Number\": self.__flight_number,\n",
    "            \"Departure Airport\": self.departure_airport,\n",
    "            \"Arrival Airport\": self.arrival_airport,\n",
    "            \"Departure Time\": self.departure_time,\n",
    "            \"Arrival Time\": self.arrival_time,\n",
    "            \"Available Seats\": self.__available_seats\n",
    "        }\n",
    "\n",
    "\n",
    "class DomesticFlight(Flight):\n",
    "    def __init__(self, flight_number, departure_airport, arrival_airport, departure_time, arrival_time, available_seats, domestic_policy):\n",
    "        super().__init__(flight_number, departure_airport, arrival_airport, departure_time, arrival_time, available_seats)\n",
    "        self.domestic_policy = domestic_policy\n",
    "\n",
    "    def get_domestic_policy(self):\n",
    "        return self.domestic_policy\n",
    "\n",
    "\n",
    "class InternationalFlight(Flight):\n",
    "    def __init__(self, flight_number, departure_airport, arrival_airport, departure_time, arrival_time, available_seats, international_policy, visa_required):\n",
    "        super().__init__(flight_number, departure_airport, arrival_airport, departure_time, arrival_time, available_seats)\n",
    "        self.international_policy = international_policy\n",
    "        self.visa_required = visa_required\n",
    "\n",
    "    def get_international_policy(self):\n",
    "        return self.international_policy\n",
    "\n",
    "    def is_visa_required(self):\n",
    "        return self.visa_required"
   ]
  },
  {
   "cell_type": "markdown",
   "metadata": {
    "id": "nC_lPE01V0ry"
   },
   "source": [
    "# 16. Write a Python program to create a text file named \"employees.txt\" and write the details of employees, including their name, age, and salary, into the file."
   ]
  },
  {
   "cell_type": "code",
   "execution_count": null,
   "metadata": {
    "id": "ssJ1R0X6V0ry",
    "outputId": "b581f941-70b5-44a4-b716-7fa24c66520b"
   },
   "outputs": [
    {
     "name": "stdout",
     "output_type": "stream",
     "text": [
      "Employee details have been written to employees.txt\n"
     ]
    }
   ],
   "source": [
    "# List of employees with their details\n",
    "employees = [\n",
    "    {\"name\": \"John Doe\", \"age\": 30, \"salary\": 50000},\n",
    "    {\"name\": \"Jane Smith\", \"age\": 25, \"salary\": 60000},\n",
    "    {\"name\": \"Emily Davis\", \"age\": 35, \"salary\": 70000}\n",
    "]\n",
    "\n",
    "# Function to write employee details to a text file\n",
    "def write_employees_to_file(file_name, employees):\n",
    "    with open(file_name, 'w') as file:\n",
    "        for employee in employees:\n",
    "            file.write(f\"Name: {employee['name']}, Age: {employee['age']}, Salary: {employee['salary']}\\n\")\n",
    "\n",
    "# Create and write to the \"employees.txt\" file\n",
    "write_employees_to_file(\"employees.txt\", employees)\n",
    "\n",
    "print(\"Employee details have been written to employees.txt\")\n"
   ]
  },
  {
   "cell_type": "markdown",
   "metadata": {
    "id": "l5XznbtTV0rz"
   },
   "source": [
    "# 17. Develop a Python script that opens an existing text file named \"inventory.txt\" in read mode and displays the contents of the file line by line."
   ]
  },
  {
   "cell_type": "code",
   "execution_count": null,
   "metadata": {
    "id": "AiwjSWheV0rz"
   },
   "outputs": [],
   "source": [
    "# Open the file in read mode\n",
    "with open('inventory.txt', 'r') as file:\n",
    "    # Read and print each line in the file\n",
    "    for line in file:\n",
    "        print(line, end='')"
   ]
  },
  {
   "cell_type": "markdown",
   "metadata": {
    "id": "sMeeJDH4V0rz"
   },
   "source": [
    "# 18. Create a Python script that reads a text file named \"expenses.txt\" and calculates the total amount spent on various expenses listed in the file."
   ]
  },
  {
   "cell_type": "code",
   "execution_count": null,
   "metadata": {
    "id": "A5P_87lTV0rz",
    "outputId": "50ff01bd-c5d7-4c93-eea2-f53a1e2a5c06"
   },
   "outputs": [
    {
     "name": "stdout",
     "output_type": "stream",
     "text": [
      "Error: The file 'expenses.txt' was not found.\n",
      "Total expenses: $0.00\n"
     ]
    }
   ],
   "source": [
    "# Define the filename\n",
    "filename = 'expenses.txt'\n",
    "\n",
    "def calculate_total_expenses(filename):\n",
    "    total_expense = 0.0\n",
    "\n",
    "    try:\n",
    "        # Open the file in read mode\n",
    "        with open(filename, 'r') as file:\n",
    "            for line in file:\n",
    "                # Strip any whitespace and try to convert the line to a float\n",
    "                try:\n",
    "                    expense = float(line.strip())\n",
    "                    total_expense += expense\n",
    "                except ValueError:\n",
    "                    print(f\"Warning: '{line.strip()}' is not a valid number and will be ignored.\")\n",
    "\n",
    "    except FileNotFoundError:\n",
    "        print(f\"Error: The file '{filename}' was not found.\")\n",
    "\n",
    "    return total_expense\n",
    "\n",
    "# Calculate total expenses and print the result\n",
    "total = calculate_total_expenses(filename)\n",
    "print(f\"Total expenses: ${total:.2f}\")\n"
   ]
  },
  {
   "cell_type": "markdown",
   "metadata": {
    "id": "NKm1tN9uV0rz"
   },
   "source": [
    "# 19. Create a Python program that reads a text file named \"paragraph.txt\" and counts the occurrences of each word in the paragraph, displaying the results in alphabetical order."
   ]
  },
  {
   "cell_type": "code",
   "execution_count": null,
   "metadata": {
    "id": "yt80XRgLV0r0"
   },
   "outputs": [],
   "source": [
    "from collections import Counter\n",
    "import re\n",
    "\n",
    "def count_words(filename):\n",
    "    # Read the text file\n",
    "    with open(filename, 'r') as file:\n",
    "        text = file.read()\n",
    "\n",
    "    # Use regular expressions to find words and convert to lowercase\n",
    "    words = re.findall(r'\\b\\w+\\b', text.lower())\n",
    "\n",
    "    # Count the occurrences of each word\n",
    "    word_counts = Counter(words)\n",
    "\n",
    "    # Sort the words alphabetically\n",
    "    sorted_word_counts = dict(sorted(word_counts.items()))\n",
    "\n",
    "    # Display the results\n",
    "    for word, count in sorted_word_counts.items():\n",
    "        print(f'{word}: {count}')\n",
    "\n",
    "if __name__ == \"__main__\":\n",
    "    count_words('paragraph.txt')\n"
   ]
  },
  {
   "cell_type": "markdown",
   "metadata": {
    "id": "oFE9d7AqV0r9"
   },
   "source": [
    "# 21. What do you mean by skewness. Explain its types. Use graph to show.\n",
    "**Ans**:\n",
    "- Skewness is a statistical measure that describes the asymmetry of the distribution of values in a dataset. It indicates whether the data points are more spread out on one side of the mean than the other. The skewness can be positive, negative, or zero, each indicating different characteristics of the distribution.\n",
    "\n",
    "## Types of Skewness\n",
    "1. **Positive Skewness (Right Skewness):**\n",
    "\n",
    "    - The tail on the right side of the distribution is longer or fatter than the left side.\n",
    "    - Most of the data values are concentrated on the left side, with a few larger values stretching out to the right.\n",
    "    - The mean is typically greater than the median.\n",
    "\n",
    "2. **Negative Skewness (Left Skewness):**\n",
    "\n",
    "    - The tail on the left side of the distribution is longer or fatter than the right side.\n",
    "    - Most of the data values are concentrated on the right side, with a few smaller values stretching out to the left.\n",
    "    - The mean is typically less than the median.\n",
    "3. **Zero Skewness (Symmetric Distribution):**\n",
    "\n",
    "    - The tails on both sides of the distribution are equally balanced.\n",
    "    - The distribution is symmetrical around the mean.\n",
    "    - The mean and median are approximately equal."
   ]
  },
  {
   "cell_type": "code",
   "execution_count": null,
   "metadata": {
    "id": "NV_zgaLIV0r9",
    "outputId": "21d4da04-da6b-4ea3-c1cf-a016d3e226e2"
   },
   "outputs": [
    {
     "data": {
      "image/png": "[encoded data removed]",
      "text/plain": [
       "<Figure size 1800x600 with 3 Axes>"
      ]
     },
     "metadata": {},
     "output_type": "display_data"
    }
   ],
   "source": [
    "import matplotlib.pyplot as plt\n",
    "import numpy as np\n",
    "import seaborn as sns\n",
    "\n",
    "# Generate sample data for different skewness types\n",
    "np.random.seed(0)\n",
    "\n",
    "# Positive skew\n",
    "positive_skew = np.random.exponential(scale=2, size=1000)\n",
    "\n",
    "# Negative skew\n",
    "negative_skew = -np.random.exponential(scale=2, size=1000)\n",
    "\n",
    "# Zero skew (Normal distribution)\n",
    "zero_skew = np.random.normal(loc=0, scale=1, size=1000)\n",
    "\n",
    "# Create subplots\n",
    "fig, axes = plt.subplots(1, 3, figsize=(18, 6))\n",
    "\n",
    "# Plot positive skew\n",
    "sns.histplot(positive_skew, kde=True, ax=axes[0], color='blue')\n",
    "axes[0].set_title('Positive Skew (Right Skew)')\n",
    "axes[0].set_xlabel('Value')\n",
    "axes[0].set_ylabel('Frequency')\n",
    "\n",
    "# Plot negative skew\n",
    "sns.histplot(negative_skew, kde=True, ax=axes[1], color='green')\n",
    "axes[1].set_title('Negative Skew (Left Skew)')\n",
    "axes[1].set_xlabel('Value')\n",
    "axes[1].set_ylabel('Frequency')\n",
    "\n",
    "# Plot zero skew\n",
    "sns.histplot(zero_skew, kde=True, ax=axes[2], color='red')\n",
    "axes[2].set_title('Zero Skew (Symmetric Distribution)')\n",
    "axes[2].set_xlabel('Value')\n",
    "axes[2].set_ylabel('Frequency')\n",
    "\n",
    "plt.tight_layout()\n",
    "plt.show()\n"
   ]
  },
  {
   "attachments": {
    "95afb0d1-600e-4ee4-b814-1ceb519dd708.png": {
     "image/png": "[encoded data removed]"
    }
   },
   "cell_type": "markdown",
   "metadata": {
    "id": "hInZ99IgV0r0"
   },
   "source": [
    "# 24. Calculate coefficient of correlation between the marks obtained by 10 students in Accountancy and statistics:\n",
    "![image.png](attachment:95afb0d1-600e-4ee4-b814-1ceb519dd708.png)\n",
    "# Use Karl Pearson’s Coefficient of Correlation Method to find it."
   ]
  },
  {
   "cell_type": "code",
   "execution_count": null,
   "metadata": {
    "id": "8bHezdgWV0r0",
    "outputId": "51447f63-5bff-49f6-ce99-a44b5404e6ca"
   },
   "outputs": [
    {
     "name": "stdout",
     "output_type": "stream",
     "text": [
      "Karl Pearson’s Coefficient of Correlation is: 0.9031178882610624\n"
     ]
    }
   ],
   "source": [
    "import numpy as np\n",
    "\n",
    "# Accountancy scores\n",
    "accountancy_scores = np.array([45, 70, 65, 30, 90, 40, 50, 75, 85, 60])\n",
    "\n",
    "# Statistics scores\n",
    "statistics_scores = np.array([35, 90, 70, 40, 95, 40, 60, 80, 80, 50])\n",
    "\n",
    "# Calculate Pearson's correlation coefficient\n",
    "correlation_coefficient = np.corrcoef(accountancy_scores, statistics_scores)[0][1]\n",
    "\n",
    "print(\"Karl Pearson’s Coefficient of Correlation is:\", correlation_coefficient)\n"
   ]
  },
  {
   "cell_type": "markdown",
   "metadata": {
    "id": "0na0nNFFV0r1"
   },
   "source": [
    "# 26. Find the most likely price at Delhi corresponding to the price of Rs. 70 at Agra from the following data: Coefficient of correlation between the prices of the two places +0.8."
   ]
  },
  {
   "cell_type": "code",
   "execution_count": null,
   "metadata": {
    "id": "TqYjj8t3V0r1",
    "outputId": "97fab32f-f639-4cf8-8bc1-3c162fce00d0"
   },
   "outputs": [
    {
     "name": "stdout",
     "output_type": "stream",
     "text": [
      "Predicted price in Delhi for Rs. 70 at Agra: Rs. 64.00\n"
     ]
    }
   ],
   "source": [
    "import numpy as np\n",
    "from scipy.stats import linregress\n",
    "\n",
    "# Hypothetical data\n",
    "price_agras = np.array([50, 60, 70, 80, 90])\n",
    "price_delhis = np.array([40, 55, 65, 75, 85])\n",
    "\n",
    "# Coefficient of correlation\n",
    "correlation_coefficient = 0.8\n",
    "\n",
    "# Calculate the linear regression parameters\n",
    "slope, intercept, r_value, p_value, std_err = linregress(price_agras, price_delhis)\n",
    "\n",
    "# Price at Agra for which we want to predict the Delhi price\n",
    "price_at_agra = 70\n",
    "\n",
    "# Predict the price in Delhi\n",
    "predicted_price_delhi = intercept + slope * price_at_agra\n",
    "\n",
    "print(f\"Predicted price in Delhi for Rs. 70 at Agra: Rs. {predicted_price_delhi:.2f}\")\n"
   ]
  },
  {
   "cell_type": "markdown",
   "metadata": {
    "id": "ekjJ15PwV0r1"
   },
   "source": [
    "# 27. In a partially destroyed laboratory record of an analysis of correlation data, the following results only are legible: Variance of x = 9, Regression equations are: (i) 8x−10y = −66; (ii) 40x − 18y = 214. What are (a) the mean values of x and y, (b) the coefficient of correlation between x and y, (c) the σ of y."
   ]
  },
  {
   "cell_type": "code",
   "execution_count": null,
   "metadata": {
    "id": "vh7lMFJ5V0r2",
    "outputId": "bae98efe-b11c-4b9f-cd6b-5d99c01ffebe"
   },
   "outputs": [
    {
     "data": {
      "text/plain": [
       "(-13.0, -17.0, 0.8, 6.666666666666667)"
      ]
     },
     "execution_count": 20,
     "metadata": {},
     "output_type": "execute_result"
    }
   ],
   "source": [
    "import numpy as np\n",
    "\n",
    "# Given data\n",
    "variance_x = 9\n",
    "\n",
    "# Regression equations coefficients\n",
    "a1, b1, c1 = 8, -10, -66\n",
    "a2, b2, c2 = 40, -18, 214\n",
    "\n",
    "# Solve for mean values of x and y\n",
    "A = np.array([[a1, b1], [a2, b2]])\n",
    "B = np.array([-c1, -c2])\n",
    "mean_values = np.linalg.solve(A, B)\n",
    "mean_x, mean_y = mean_values\n",
    "\n",
    "# Calculate slopes of the regression lines\n",
    "slope_x_on_y = -a1 / b1\n",
    "slope_y_on_x = -a2 / b2\n",
    "\n",
    "# Calculate the correlation coefficient\n",
    "correlation_coefficient = np.sqrt((slope_x_on_y * slope_y_on_x) / (1 + slope_x_on_y * slope_y_on_x))\n",
    "\n",
    "# Calculate standard deviation of y\n",
    "# Variance of y can be calculated using the formula: var_y = var_x * (slope_y_on_x)^2\n",
    "variance_y = variance_x * (slope_y_on_x ** 2)\n",
    "sigma_y = np.sqrt(variance_y)\n",
    "\n",
    "(mean_x, mean_y, correlation_coefficient, sigma_y)\n"
   ]
  },
  {
   "cell_type": "markdown",
   "metadata": {
    "id": "E3yxNa-iV0r2"
   },
   "source": [
    "# 31. The mean of a distribution is 60 with a standard deviation of 10. Assuming that the distribution is normal, what percentage of items be (i) between 60 and 72, (ii) between 50 and 60, (iii) beyond 72 and (iv) between 70 and 80?"
   ]
  },
  {
   "cell_type": "code",
   "execution_count": null,
   "metadata": {
    "id": "-GZm31AHV0r2",
    "outputId": "f787f936-8540-4b69-e5d5-37798d007229"
   },
   "outputs": [
    {
     "name": "stdout",
     "output_type": "stream",
     "text": [
      "Percentage of items between 60 and 72: 38.49%\n",
      "Percentage of items between 50 and 60: 34.13%\n",
      "Percentage of items beyond 72: 11.51%\n",
      "Percentage of items between 70 and 80: 13.59%\n"
     ]
    }
   ],
   "source": [
    "import scipy.stats as stats\n",
    "\n",
    "# Define the mean and standard deviation\n",
    "mean = 60\n",
    "std_dev = 10\n",
    "\n",
    "# Create a normal distribution object\n",
    "distribution = stats.norm(loc=mean, scale=std_dev)\n",
    "\n",
    "# Calculate the percentage of items in the specified ranges\n",
    "# (i) Between 60 and 72\n",
    "prob_60_to_72 = distribution.cdf(72) - distribution.cdf(60)\n",
    "\n",
    "# (ii) Between 50 and 60\n",
    "prob_50_to_60 = distribution.cdf(60) - distribution.cdf(50)\n",
    "\n",
    "# (iii) Beyond 72\n",
    "prob_beyond_72 = 1 - distribution.cdf(72)\n",
    "\n",
    "# (iv) Between 70 and 80\n",
    "prob_70_to_80 = distribution.cdf(80) - distribution.cdf(70)\n",
    "\n",
    "# Convert to percentages\n",
    "percent_60_to_72 = prob_60_to_72 * 100\n",
    "percent_50_to_60 = prob_50_to_60 * 100\n",
    "percent_beyond_72 = prob_beyond_72 * 100\n",
    "percent_70_to_80 = prob_70_to_80 * 100\n",
    "\n",
    "print(f\"Percentage of items between 60 and 72: {percent_60_to_72:.2f}%\")\n",
    "print(f\"Percentage of items between 50 and 60: {percent_50_to_60:.2f}%\")\n",
    "print(f\"Percentage of items beyond 72: {percent_beyond_72:.2f}%\")\n",
    "print(f\"Percentage of items between 70 and 80: {percent_70_to_80:.2f}%\")\n"
   ]
  },
  {
   "cell_type": "markdown",
   "metadata": {
    "id": "pNcjMldiV0r3"
   },
   "source": [
    "# 32. 15000 students sat for an examination. The mean marks was 49 and the distribution of marks had a standard deviation of 6. Assuming that the marks were normally distributed what proportion of students scored (a) more than 55 marks, (b) more than 70 marks"
   ]
  },
  {
   "cell_type": "code",
   "execution_count": null,
   "metadata": {
    "id": "JJhJQUDvV0r4",
    "outputId": "a54f8f24-ccb8-485e-a8e0-700bfa84cbb7"
   },
   "outputs": [
    {
     "name": "stdout",
     "output_type": "stream",
     "text": [
      "Proportion of students scoring more than 55 marks: 0.1587\n",
      "Proportion of students scoring more than 70 marks: 0.0002\n"
     ]
    }
   ],
   "source": [
    "from scipy.stats import norm\n",
    "\n",
    "# Define the parameters\n",
    "mean = 49\n",
    "std_dev = 6\n",
    "\n",
    "# Define the thresholds\n",
    "threshold_55 = 55\n",
    "threshold_70 = 70\n",
    "\n",
    "# Calculate the Z-scores for the thresholds\n",
    "z_score_55 = (threshold_55 - mean) / std_dev\n",
    "z_score_70 = (threshold_70 - mean) / std_dev\n",
    "\n",
    "# Calculate the proportion of students scoring more than the thresholds\n",
    "proportion_more_than_55 = 1 - norm.cdf(z_score_55)\n",
    "proportion_more_than_70 = 1 - norm.cdf(z_score_70)\n",
    "\n",
    "# Output the results\n",
    "print(f\"Proportion of students scoring more than 55 marks: {proportion_more_than_55:.4f}\")\n",
    "print(f\"Proportion of students scoring more than 70 marks: {proportion_more_than_70:.4f}\")\n"
   ]
  },
  {
   "cell_type": "markdown",
   "metadata": {
    "id": "9E640TnZV0r5"
   },
   "source": [
    "# 33. If the height of 500 students are normally distributed with mean 65 inch and standard deviation 5 inch. How many students have height : a) greater than 70 inch. b) between 60 and 70 inch."
   ]
  },
  {
   "cell_type": "code",
   "execution_count": null,
   "metadata": {
    "id": "M6RTUV1GV0r5",
    "outputId": "3c0b46f0-30e6-4c5a-e74e-ee633a8a17c6"
   },
   "outputs": [
    {
     "name": "stdout",
     "output_type": "stream",
     "text": [
      "Number of students with height greater than 70 inches: 79\n",
      "Number of students with height between 60 and 70 inches: 341\n"
     ]
    }
   ],
   "source": [
    "import scipy.stats as stats\n",
    "\n",
    "# Parameters\n",
    "mean = 65\n",
    "std_dev = 5\n",
    "total_students = 500\n",
    "\n",
    "# Calculate the probabilities\n",
    "prob_greater_than_70 = 1 - stats.norm.cdf(70, mean, std_dev)\n",
    "prob_between_60_and_70 = stats.norm.cdf(70, mean, std_dev) - stats.norm.cdf(60, mean, std_dev)\n",
    "\n",
    "# Calculate the number of students\n",
    "students_greater_than_70 = prob_greater_than_70 * total_students\n",
    "students_between_60_and_70 = prob_between_60_and_70 * total_students\n",
    "\n",
    "print(f\"Number of students with height greater than 70 inches: {students_greater_than_70:.0f}\")\n",
    "print(f\"Number of students with height between 60 and 70 inches: {students_between_60_and_70:.0f}\")\n"
   ]
  },
  {
   "cell_type": "markdown",
   "metadata": {
    "id": "aIDYHDSOV0r5"
   },
   "source": [
    "# 35.A random sample of size 25 from a population gives the sample standard derivation to be 9.0. Test the hypothesis that the population standard derivation is 10.5. Hint(Use chi-square distribution)."
   ]
  },
  {
   "cell_type": "code",
   "execution_count": null,
   "metadata": {
    "id": "qcjlJ7ohV0r6",
    "outputId": "4f6f30b1-7fde-40b0-e5e8-f328cbd9b149"
   },
   "outputs": [
    {
     "name": "stdout",
     "output_type": "stream",
     "text": [
      "Test Statistic: 17.632653061224488\n",
      "Chi-Square Critical Values: (12.401150217444435, 39.36407702660391)\n",
      "Fail to reject the null hypothesis.\n"
     ]
    }
   ],
   "source": [
    "import scipy.stats as stats\n",
    "\n",
    "# Given data\n",
    "n = 25\n",
    "s = 9.0\n",
    "sigma_0 = 10.5\n",
    "\n",
    "# Calculate the test statistic\n",
    "test_statistic = ((n - 1) * s**2) / (sigma_0**2)\n",
    "\n",
    "# Degrees of freedom\n",
    "df = n - 1\n",
    "\n",
    "# Significance level (alpha)\n",
    "alpha = 0.05\n",
    "\n",
    "# Find critical values for a two-tailed test\n",
    "chi2_critical_low = stats.chi2.ppf(alpha / 2, df)\n",
    "chi2_critical_high = stats.chi2.ppf(1 - alpha / 2, df)\n",
    "\n",
    "# Output results\n",
    "print(f\"Test Statistic: {test_statistic}\")\n",
    "print(f\"Chi-Square Critical Values: ({chi2_critical_low}, {chi2_critical_high})\")\n",
    "\n",
    "# Determine if we reject the null hypothesis\n",
    "if test_statistic < chi2_critical_low or test_statistic > chi2_critical_high:\n",
    "    print(\"Reject the null hypothesis.\")\n",
    "else:\n",
    "    print(\"Fail to reject the null hypothesis.\")\n"
   ]
  },
  {
   "cell_type": "markdown",
   "metadata": {
    "id": "2PUb8aYxV0r7"
   },
   "source": [
    "# 37.100 students of a PW IOI obtained the following grades in Data Science paper :\n",
    "### Grade :[A, B, C, D, E]\n",
    "### Total Frequency :[15, 17, 30, 22, 16, 100]\n",
    "# Using the χ 2 test , examine the hypothesis that the distribution of grades is uniform."
   ]
  },
  {
   "cell_type": "code",
   "execution_count": null,
   "metadata": {
    "id": "mkyuR8VRV0r7",
    "outputId": "e69f6652-7952-4692-9c3a-2d9b69581129"
   },
   "outputs": [
    {
     "name": "stdout",
     "output_type": "stream",
     "text": [
      "Chi-square Statistic: 7.70\n",
      "P-value: 0.1032\n",
      "Fail to reject the null hypothesis: The distribution of grades is uniform.\n"
     ]
    }
   ],
   "source": [
    "import numpy as np\n",
    "from scipy.stats import chi2\n",
    "\n",
    "# Observed frequencies\n",
    "observed = np.array([15, 17, 30, 22, 16])\n",
    "\n",
    "# Total number of students\n",
    "total_students = sum(observed)\n",
    "\n",
    "# Number of grades\n",
    "num_grades = len(observed)\n",
    "\n",
    "# Expected frequency if distribution is uniform\n",
    "expected = np.array([total_students / num_grades] * num_grades)\n",
    "\n",
    "# Calculate chi-square statistic\n",
    "chi2_statistic = np.sum((observed - expected)**2 / expected)\n",
    "\n",
    "# Calculate degrees of freedom\n",
    "degrees_of_freedom = num_grades - 1\n",
    "\n",
    "# Calculate p-value\n",
    "p_value = 1 - chi2.cdf(chi2_statistic, degrees_of_freedom)\n",
    "\n",
    "print(f\"Chi-square Statistic: {chi2_statistic:.2f}\")\n",
    "print(f\"P-value: {p_value:.4f}\")\n",
    "\n",
    "# Check the hypothesis\n",
    "alpha = 0.05\n",
    "if p_value < alpha:\n",
    "    print(\"Reject the null hypothesis: The distribution of grades is not uniform.\")\n",
    "else:\n",
    "    print(\"Fail to reject the null hypothesis: The distribution of grades is uniform.\")\n"
   ]
  },
  {
   "attachments": {
    "4d0041f5-4d2e-4c2f-bc93-4f3fe86d3fc3.png": {
     "image/png": "[encoded data removed]"
    }
   },
   "cell_type": "markdown",
   "metadata": {
    "id": "Z--TVA7lV0r8"
   },
   "source": [
    "# 38.Anova Test:\n",
    "![image.png](attachment:4d0041f5-4d2e-4c2f-bc93-4f3fe86d3fc3.png)"
   ]
  },
  {
   "cell_type": "code",
   "execution_count": 4,
   "metadata": {
    "colab": {
     "base_uri": "https://localhost:8080/"
    },
    "id": "kEaRJOVaV0r8",
    "outputId": "ce52ee53-a1b2-48fb-b300-cd064b8231fe"
   },
   "outputs": [
    {
     "name": "stdout",
     "output_type": "stream",
     "text": [
      "Fail to reject the null hypothesis.\n",
      "No significant differences detected.\n"
     ]
    }
   ],
   "source": [
    "import pandas as pd\n",
    "from scipy.stats import f_oneway\n",
    "import pandas as pd\n",
    "\n",
    "import warnings\n",
    "warnings.filterwarnings('ignore')\n",
    "\n",
    "data = {\n",
    "    'Water Temp': ['Cold Water', 'Warm Water', 'Hot Water'],\n",
    "    'Detergents A': [57, 49, 54],\n",
    "    'Detergents B': [55, 52, 46],\n",
    "    'Detergents C': [67, 68, 58]\n",
    "}\n",
    "\n",
    "df = pd.DataFrame(data)\n",
    "\n",
    "cold_water = df[df['Water Temp'] == 'Cold Water']\n",
    "warm_water = df[df['Water Temp'] == 'Warm Water']\n",
    "hot_water = df[df['Water Temp'] == 'Hot Water']\n",
    "\n",
    "# Perform ANOVA\n",
    "result = f_oneway(cold_water, warm_water, hot_water)\n",
    "p_value = result.pvalue\n",
    "significance_level = 0.05\n",
    "\n",
    "if (p_value < significance_level).any():\n",
    "    print(\"Reject the null hypothesis.\")\n",
    "    print(\"There are significant differences in means among the detergents at different water temperatures.\")\n",
    "else:\n",
    "    print(\"Fail to reject the null hypothesis.\")\n",
    "    print(\"No significant differences detected.\")\n"
   ]
  },
  {
   "cell_type": "markdown",
   "metadata": {
    "id": "Gb4gjeGOV0r9"
   },
   "source": [
    "# 50. Create a database name Travel_Planner in mysql and create a table name bookings in that which having attributes (user_id INT, flight_id INT,hotel_id INT, activity_id INT,booking_date DATE) .fill wih some dummy value .Now you have to read the content of this table using pandas as dataframe.Show he output."
   ]
  },
  {
   "cell_type": "code",
   "execution_count": 17,
   "metadata": {
    "id": "iqAbz4M7V0r9"
   },
   "outputs": [],
   "source": [
    "import mysql.connector as conn\n",
    "import pandas as pd"
   ]
  },
  {
   "cell_type": "code",
   "execution_count": 24,
   "metadata": {
    "id": "32O9BFkcV0r9"
   },
   "outputs": [],
   "source": [
    "mydb = conn.connect(host = 'localhost', user='root', passwd = '@ag@m%my$ql54321', database='Travel_Planner')"
   ]
  },
  {
   "cell_type": "code",
   "execution_count": 19,
   "metadata": {},
   "outputs": [
    {
     "data": {
      "text/plain": [
       "<mysql.connector.connection_cext.CMySQLConnection at 0x28c7c5e8740>"
      ]
     },
     "execution_count": 19,
     "metadata": {},
     "output_type": "execute_result"
    }
   ],
   "source": [
    "mydb"
   ]
  },
  {
   "cell_type": "code",
   "execution_count": 25,
   "metadata": {},
   "outputs": [],
   "source": [
    "query = \"SELECT * FROM bookings\""
   ]
  },
  {
   "cell_type": "code",
   "execution_count": 30,
   "metadata": {},
   "outputs": [
    {
     "name": "stdout",
     "output_type": "stream",
     "text": [
      "   user_id  flight_id  hotel_id  city_id booking_date\n",
      "0        1        101       201      301   2024-07-29\n",
      "1        2        102       202      302   2024-07-30\n",
      "2        3        103       203      303   2024-07-31\n"
     ]
    }
   ],
   "source": [
    "df = pd.read_sql(query, mydb)\n",
    "mydb.close()\n",
    "print(df)"
   ]
  }
 ],
 "metadata": {
  "colab": {
   "provenance": []
  },
  "kernelspec": {
   "display_name": "Python 3 (ipykernel)",
   "language": "python",
   "name": "python3"
  },
  "language_info": {
   "codemirror_mode": {
    "name": "ipython",
    "version": 3
   },
   "file_extension": ".py",
   "mimetype": "text/x-python",
   "name": "python",
   "nbconvert_exporter": "python",
   "pygments_lexer": "ipython3",
   "version": "3.12.1"
  }
 },
 "nbformat": 4,
 "nbformat_minor": 4
}
